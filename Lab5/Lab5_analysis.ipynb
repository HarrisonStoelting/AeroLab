{
 "cells": [
  {
   "cell_type": "code",
   "execution_count": 2,
   "metadata": {},
   "outputs": [],
   "source": [
    "import pandas as pd\n",
    "import matplotlib.pyplot as plt\n",
    "import numpy as np\n",
    "import time"
   ]
  },
  {
   "cell_type": "markdown",
   "metadata": {},
   "source": [
    "# Pre-Processing"
   ]
  },
  {
   "cell_type": "code",
   "execution_count": 17,
   "metadata": {},
   "outputs": [],
   "source": [
    "#importing the excel  file\n",
    "filename = \"Lab5_Group16_NACA0012.csv\"\n",
    "raw_data = pd.read_csv(filename)\n",
    "\n",
    "#breaking the data into each test (10 tests, 21 points per test)\n",
    "SideForce_values = np.zeros((10,21))\n",
    "PitchingMoment_values = np.zeros((10,21))\n",
    "NormalForce_values = np.zeros((10,21))\n",
    "YawingMoment_values = np.zeros((10,21))\n",
    "RollingMoment_values = np.zeros((10,21))\n",
    "AxialForce_values = np.zeros((10,21))\n",
    "DynamicPressure_values = np.zeros((10,21))\n",
    "StaticPressure_values = np.zeros((10,21))\n",
    "AirSpeed_values = np.zeros((10,21))\n",
    "\n",
    "i = -1\n",
    "while i < 9:\n",
    "    i = i + 1\n",
    "    SideForce_values[i,:] = raw_data.iloc[i*21:i*21+21, 1]\n",
    "    PitchingMoment_values[i,:] = raw_data.iloc[i*21:i*21+21, 2]\n",
    "    NormalForce_values[i,:] = raw_data.iloc[i*21:i*21+21, 3]\n",
    "    YawingMoment_values[i,:] = raw_data.iloc[i*21:i*21+21, 4]\n",
    "    RollingMoment_values[i,:] = raw_data.iloc[i*21:i*21+21, 5]\n",
    "    AxialForce_values[i,:] = raw_data.iloc[i*21:i*21+21, 6]\n",
    "    DynamicPressure_values[i,:] = raw_data.iloc[i*21:i*21+21, 7]\n",
    "    StaticPressure_values[i,:] = raw_data.iloc[i*21:i*21+21, 8]\n",
    "    AirSpeed_values[i,:] = raw_data.iloc[i*21:i*21+21, 9]\n",
    "\n",
    "#taking the average of the recorded data for each case\n",
    "SideForce = []\n",
    "PitchingMoment = []\n",
    "NormalForce = []\n",
    "YawingMoment = []\n",
    "RollingMoment = []\n",
    "AxialForce = []\n",
    "DynamicPressure = []\n",
    "StaticPressure = []\n",
    "AirSpeed = []\n",
    "\n",
    "for i in range(len(SideForce_values)):\n",
    "    SideForce.append(np.mean(SideForce_values[i]))\n",
    "    PitchingMoment.append(np.mean(PitchingMoment_values[i]))\n",
    "    NormalForce.append(np.mean(NormalForce_values[i]))\n",
    "    YawingMoment.append(np.mean(YawingMoment_values[i]))\n",
    "    RollingMoment.append(np.mean(RollingMoment_values[i]))\n",
    "    AxialForce.append(np.mean(AxialForce_values[i]))\n",
    "    DynamicPressure.append(np.mean(DynamicPressure_values[i]))\n",
    "    StaticPressure.append(np.mean(StaticPressure_values[i]))\n",
    "    AirSpeed.append(np.mean(AirSpeed_values[i]))\n",
    "\n",
    "#adjusting the signs according to the force balance to match the directions specified\n",
    "for i in range(len(SideForce)):\n",
    "    SideForce[i] = SideForce[i]*-1\n",
    "    NormalForce[i] = NormalForce[i]*-1\n",
    "    PitchingMoment[i] = PitchingMoment[i]*-1\n",
    "\n",
    "#calculating the densities for each case (rho = p/(R_spec*T))\n",
    "R_spec = 53.35 #ft*lbf/lb*R\n",
    "rho = []\n",
    "\n",
    "TestNotes = pd.read_excel(\"Test Notes.xlsx\")\n",
    "Temperature = TestNotes.iloc[:,1]+459.67 #converting to Rankine\n",
    "\n",
    "for i in range(len(StaticPressure)):\n",
    "    rho_v = (2083.5938+(StaticPressure[i]*144))/(R_spec*Temperature.loc[i]) #lbm/ft^3\n",
    "    rho.append(rho_v)"
   ]
  },
  {
   "cell_type": "markdown",
   "metadata": {},
   "source": [
    "# Parasitic Drag"
   ]
  },
  {
   "cell_type": "code",
   "execution_count": 23,
   "metadata": {},
   "outputs": [
    {
     "name": "stdout",
     "output_type": "stream",
     "text": [
      "          Re_Mac        Re_Fus  Axial Force (lbf)  Normal Force (lbf)  \\\n",
      "0   99223.066305  2.505382e+05           0.024191           -0.031667   \n",
      "1  197941.915721  4.998033e+05           0.079082           -0.065353   \n",
      "2  295467.571566  7.460556e+05           0.167080           -0.115066   \n",
      "3  393035.636370  9.924150e+05           0.284813           -0.216700   \n",
      "4  488656.344681  1.233857e+06           0.438222           -0.312113   \n",
      "\n",
      "   Side Force (lbf)      C_D0       C_L       C_Y  \n",
      "0          0.016496  0.018913 -0.026260  0.013679  \n",
      "1          0.038894  0.015249 -0.013367  0.007955  \n",
      "2          0.075155  0.014567 -0.010641  0.006950  \n",
      "3          0.176226  0.014143 -0.011414  0.009282  \n",
      "4          0.272402  0.013872 -0.010480  0.009147  \n",
      "[0.02419095238095238, 0.07908176190476189, 0.1670804761904762, 0.2848132857142857, 0.43822219047619043, -0.022383, -0.2585398571428571, -0.5684196190476192, -0.8872876190476189, -0.08705819047619048]\n",
      "[0.019985809523809524, 0.08103133333333334, 0.17921952380952377, 0.3146535714285714, 0.49358552380952375, 0.1769484761904762, 0.1776478095238095, 0.178012, 0.18120509523809525, 0.17741257142857142]\n"
     ]
    },
    {
     "data": {
      "image/png": "[encoded data removed]",
      "text/plain": [
       "<Figure size 432x288 with 1 Axes>"
      ]
     },
     "metadata": {
      "needs_background": "light"
     },
     "output_type": "display_data"
    },
    {
     "data": {
      "image/png": "[encoded data removed]",
      "text/plain": [
       "<Figure size 432x288 with 1 Axes>"
      ]
     },
     "metadata": {
      "needs_background": "light"
     },
     "output_type": "display_data"
    }
   ],
   "source": [
    "#Calculating the Reynolds Number\n",
    "#constants\n",
    "mu = 0.3841E-6*32.174 #lbm/ft*s\n",
    "MAC = 4/12 #ft\n",
    "Fus = 10.1/12 #ft\n",
    "S_ref = 64 #wing surface area (both wings)\n",
    "\n",
    "#value lists\n",
    "Re_Mac_vals = []\n",
    "Re_Fus_vals = []\n",
    "CD_0_vals = []\n",
    "C_L_vals = []\n",
    "C_Y_vals = []\n",
    "\n",
    "for i in range(5): #Re for the first 5 cases (0 AoA)\n",
    "    Re_MAC = (rho[i]*AirSpeed[i]*MAC)/mu\n",
    "    Re_FUS = (rho[i]*AirSpeed[i]*Fus)/mu\n",
    "\n",
    "    Re_Mac_vals.append(Re_MAC)\n",
    "    Re_Fus_vals.append(Re_FUS)\n",
    "\n",
    "# #Calculating the parasitic drag coefficient\n",
    "# for i in range(5):\n",
    "#     D = AxialForce[i]*np.cos(0) + NormalForce[i]*np.sin(0)\n",
    "#     CD_0 = D/(DynamicPressure[i]*S_ref)\n",
    "#     CD_0_vals.append(CD_0)\n",
    "\n",
    "#Calculating CL and CY with respect to aircraft body\n",
    "r_body = 1.75/2 #in\n",
    "h_body = 10.1 #in\n",
    "S_body_ref = 2*np.pi*r_body*h_body + 2*np.pi*r_body**2 #in^2\n",
    "\n",
    "for i in range(5):\n",
    "    L = NormalForce[i]*np.cos(0) - AxialForce[i]*np.sin(0)\n",
    "    C_L = L/(DynamicPressure[i]*S_body_ref)\n",
    "    C_L_vals.append(C_L)\n",
    "\n",
    "    Y = SideForce[i]\n",
    "    C_Y = Y/(DynamicPressure[i]*S_body_ref)\n",
    "    C_Y_vals.append(C_Y)\n",
    "\n",
    "#Calculating the parasitic drag coefficient\n",
    "for i in range(5):\n",
    "    D = AxialForce[i]*np.cos(0) + NormalForce[i]*np.sin(0)\n",
    "    CD_0 = D/(DynamicPressure[i]*S_ref)\n",
    "    CD_0_vals.append(CD_0)\n",
    "\n",
    "d = {'Re_Mac': Re_Mac_vals,'Re_Fus': Re_Fus_vals, 'Axial Force (lbf)': AxialForce[0:5], 'Normal Force (lbf)': NormalForce[0:5], 'Side Force (lbf)': SideForce[0:5], 'C_D0': CD_0_vals, 'C_L': C_L_vals, 'C_Y': C_Y_vals}\n",
    "Q2_df = pd.DataFrame(data=d)\n",
    "print(Q2_df)\n",
    "\n",
    "print(AxialForce)\n",
    "print(DynamicPressure)\n",
    "\n",
    "plt.plot(Re_Mac_vals, CD_0_vals)\n",
    "plt.xlabel(\"Re_MAC\")\n",
    "plt.ylabel(\"C_D0\")\n",
    "plt.title(\"C_D0 vs Re_MAC for NACA0012\")\n",
    "plt.show()\n",
    "\n",
    "plt.plot(Re_Fus_vals, CD_0_vals)\n",
    "plt.xlabel(\"Re_Fus\")\n",
    "plt.ylabel(\"C_D0\")\n",
    "plt.title(\"C_D0 vs Re_Fus for NACA0012\")\n",
    "plt.show()\n",
    "\n",
    "\n"
   ]
  },
  {
   "cell_type": "markdown",
   "metadata": {},
   "source": [
    "# Lift, Drag and Pitching Moment"
   ]
  },
  {
   "cell_type": "code",
   "execution_count": 33,
   "metadata": {},
   "outputs": [
    {
     "name": "stdout",
     "output_type": "stream",
     "text": [
      "5\n",
      "5\n",
      "5\n",
      "5\n",
      "6\n",
      "6\n",
      "6\n",
      "   AoA (rad)  Axial Force (lbf)  Normal Force (lbf)  Pitching Moment (lbf-in)  \\\n",
      "0   0.000000           0.167080           -0.115066                 -0.226345   \n",
      "1   0.074176          -0.022383            2.271445                  1.031557   \n",
      "2   0.106465          -0.258540            3.523437                  1.406689   \n",
      "3   0.143117          -0.568420            4.560705                  1.986159   \n",
      "4   0.177151          -0.887288            5.428857                  2.580171   \n",
      "5   0.205076          -0.087058            5.230694                  0.379914   \n",
      "\n",
      "        C_L       C_D       C_m  \n",
      "0 -0.010641  0.014567 -0.004933  \n",
      "1  0.200169  0.001923  0.022772  \n",
      "2  0.310565  0.006305  0.030931  \n",
      "3  0.403339  0.013075  0.043584  \n",
      "4  0.474278  0.020882  0.055621  \n",
      "5  0.452583  0.032188  0.008365  \n"
     ]
    }
   ],
   "source": [
    "#Calculating the C_L and C_D for each AoA\n",
    "AoA = TestNotes.iloc[5:11, 3]*(np.pi/180) #AoA in radians\n",
    "C_L_AoA = [C_L_vals[2]]\n",
    "C_D_AoA = [CD_0_vals[2]]\n",
    "C_M_AoA = [PitchingMoment[2]/(DynamicPressure[2]*S_ref*MAC*12)]\n",
    "AoA_val = [0]\n",
    "AF_val = [AxialForce[2]]\n",
    "NF_val = [NormalForce[2]]\n",
    "PM_val = [PitchingMoment[2]]\n",
    "\n",
    "for i in range(len(AoA)):\n",
    "    L = NormalForce[i+5]*np.cos(AoA.iloc[i]) - AxialForce[i+5]*np.sin(AoA.iloc[i])\n",
    "    C_L = L/(DynamicPressure[i+5]*(S_ref))\n",
    "    C_L_AoA.append(C_L)\n",
    "\n",
    "    D = AxialForce[i]*np.cos(AoA.iloc[i]) + NormalForce[i]*np.sin(AoA.iloc[i])\n",
    "    C_D = D/(DynamicPressure[i+5]*(S_ref))\n",
    "    C_D_AoA.append(C_D)\n",
    "\n",
    "    C_M = PitchingMoment[i+5]/(DynamicPressure[i+5]*S_ref*MAC*12)\n",
    "    C_M_AoA.append(C_M)\n",
    "\n",
    "    AoA_val.append(AoA.iloc[i])\n",
    "    AF_val.append(AxialForce[i+5])\n",
    "    NF_val.append(NormalForce[i+5])\n",
    "    PM_val.append(PitchingMoment[i+5])\n",
    "\n",
    "print(len(AoA))\n",
    "print(len(AxialForce[5:]))\n",
    "print(len(NormalForce[5:]))\n",
    "print(len(PitchingMoment[5:]))\n",
    "print(len(C_L_AoA))\n",
    "print(len(C_D_AoA))\n",
    "print(len(C_M_AoA))\n",
    "\n",
    "\n",
    "d = {'AoA (rad)': AoA_val, 'Axial Force (lbf)': AF_val, 'Normal Force (lbf)': NF_val, 'Pitching Moment (lbf-in)': PM_val, 'C_L': C_L_AoA, 'C_D': C_D_AoA, 'C_m': C_M_AoA}\n",
    "Q3b_df = pd.DataFrame(data=d)\n",
    "print(Q3b_df)\n",
    "\n",
    "    "
   ]
  }
 ],
 "metadata": {
  "kernelspec": {
   "display_name": "base",
   "language": "python",
   "name": "python3"
  },
  "language_info": {
   "codemirror_mode": {
    "name": "ipython",
    "version": 3
   },
   "file_extension": ".py",
   "mimetype": "text/x-python",
   "name": "python",
   "nbconvert_exporter": "python",
   "pygments_lexer": "ipython3",
   "version": "3.9.7"
  }
 },
 "nbformat": 4,
 "nbformat_minor": 2
}
