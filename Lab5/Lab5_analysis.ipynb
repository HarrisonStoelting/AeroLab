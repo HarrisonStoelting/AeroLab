{
 "cells": [
  {
   "cell_type": "code",
   "execution_count": 1,
   "metadata": {},
   "outputs": [],
   "source": [
    "import pandas as pd\n",
    "import matplotlib.pyplot as plt\n",
    "import numpy as np\n",
    "import time"
   ]
  },
  {
   "cell_type": "markdown",
   "metadata": {},
   "source": [
    "# Pre-Processing"
   ]
  },
  {
   "cell_type": "code",
   "execution_count": 25,
   "metadata": {},
   "outputs": [],
   "source": [
    "#importing the excel  file\n",
    "filename = \"Lab5_Group16_NACA0012.csv\"\n",
    "raw_data = pd.read_csv(filename)\n",
    "\n",
    "#breaking the data into each test (10 tests, 21 points per test)\n",
    "SideForce_values = np.zeros((10,21))\n",
    "PitchingMoment_values = np.zeros((10,21))\n",
    "NormalForce_values = np.zeros((10,21))\n",
    "YawingMoment_values = np.zeros((10,21))\n",
    "RollingMoment_values = np.zeros((10,21))\n",
    "AxialForce_values = np.zeros((10,21))\n",
    "DynamicPressure_values = np.zeros((10,21))\n",
    "StaticPressure_values = np.zeros((10,21))\n",
    "AirSpeed_values = np.zeros((10,21))\n",
    "\n",
    "i = -1\n",
    "while i < 9:\n",
    "    i = i + 1\n",
    "    SideForce_values[i,:] = raw_data.iloc[i*21:i*21+21, 1]\n",
    "    PitchingMoment_values[i,:] = raw_data.iloc[i*21:i*21+21, 2]\n",
    "    NormalForce_values[i,:] = raw_data.iloc[i*21:i*21+21, 3]\n",
    "    YawingMoment_values[i,:] = raw_data.iloc[i*21:i*21+21, 4]\n",
    "    RollingMoment_values[i,:] = raw_data.iloc[i*21:i*21+21, 5]\n",
    "    AxialForce_values[i,:] = raw_data.iloc[i*21:i*21+21, 6]\n",
    "    DynamicPressure_values[i,:] = raw_data.iloc[i*21:i*21+21, 7]\n",
    "    StaticPressure_values[i,:] = raw_data.iloc[i*21:i*21+21, 8]\n",
    "    AirSpeed_values[i,:] = raw_data.iloc[i*21:i*21+21, 9]\n",
    "\n",
    "#taking the average of the recorded data for each case\n",
    "SideForce = []\n",
    "PitchingMoment = []\n",
    "NormalForce = []\n",
    "YawingMoment = []\n",
    "RollingMoment = []\n",
    "AxialForce = []\n",
    "DynamicPressure = []\n",
    "StaticPressure = []\n",
    "AirSpeed = []\n",
    "\n",
    "for i in range(len(SideForce_values)):\n",
    "    SideForce.append(np.mean(SideForce_values[i]))\n",
    "    PitchingMoment.append(np.mean(PitchingMoment_values[i]))\n",
    "    NormalForce.append(np.mean(NormalForce_values[i]))\n",
    "    YawingMoment.append(np.mean(YawingMoment_values[i]))\n",
    "    RollingMoment.append(np.mean(RollingMoment_values[i]))\n",
    "    AxialForce.append(np.mean(AxialForce_values[i]))\n",
    "    DynamicPressure.append(np.mean(DynamicPressure_values[i]))\n",
    "    StaticPressure.append(np.mean(StaticPressure_values[i]))\n",
    "    AirSpeed.append(np.mean(AirSpeed_values[i]))\n",
    "\n",
    "#adjusting the signs according to the force balance to match the directions specified\n",
    "for i in range(len(SideForce)):\n",
    "    SideForce[i] = SideForce[i]*-1\n",
    "    NormalForce[i] = NormalForce[i]*-1\n",
    "    PitchingMoment[i] = PitchingMoment[i]*-1\n",
    "\n",
    "#calculating the densities for each case (rho = p/(R_spec*T))\n",
    "R_spec = 53.35 #ft*lbf/lb*R\n",
    "rho = []\n",
    "\n",
    "\n"
   ]
  },
  {
   "cell_type": "code",
   "execution_count": null,
   "metadata": {},
   "outputs": [],
   "source": []
  }
 ],
 "metadata": {
  "kernelspec": {
   "display_name": "base",
   "language": "python",
   "name": "python3"
  },
  "language_info": {
   "codemirror_mode": {
    "name": "ipython",
    "version": 3
   },
   "file_extension": ".py",
   "mimetype": "text/x-python",
   "name": "python",
   "nbconvert_exporter": "python",
   "pygments_lexer": "ipython3",
   "version": "3.9.7"
  }
 },
 "nbformat": 4,
 "nbformat_minor": 2
}
