{
 "cells": [
  {
   "cell_type": "markdown",
   "metadata": {},
   "source": [
    "## Part 1"
   ]
  },
  {
   "cell_type": "code",
   "execution_count": 2,
   "metadata": {},
   "outputs": [],
   "source": [
    "import glob \n",
    "import os\n",
    "import pandas as pd\n",
    "import numpy as np\n",
    "import matplotlib.pyplot as plt\n",
    "\n",
    "#getting the directory for the stored CSV's for the flow only case\n",
    "csvdir = \"C:\\\\Users\\\\Harrison\\\\OneDrive - University of Cincinnati\\\\Year 5\\\\Aero Lab\\\\Lab Work\\\\Lab 4\\\\Lab Data\\\\Flow only, vectors\"\n",
    "\n",
    "#importing the csv files\n",
    "csvfiles = glob.glob(os.path.join(csvdir, \"*.csv\"))\n",
    "\n",
    "#creating an array to store the imported csv dataframes\n",
    "dataframes = []\n",
    "\n",
    "for csvfile in csvfiles:\n",
    "    df = pd.read_csv(csvfile) #reading each csv file\n",
    "    dataframes.append(df) #adding the dataframe from the csv into the dataframes array"
   ]
  },
  {
   "cell_type": "markdown",
   "metadata": {},
   "source": [
    "The cylinder and wing are placed in the freestream where the effects from the walls (bottom of tunnel, top of water) are the lowest, therefore we want to use that velocity to determine Reynold's number. For each frame, every row (y position) will be averaged and then all the frame rows will be averaged (gives v_avg row 1, v_avg row 2, etc.). Plotting the data will show which rows are the highest, and therefore the freestream. The freestream rows will then be averaged and the resulting speed will be used in the Re number calculation."
   ]
  },
  {
   "cell_type": "code",
   "execution_count": 3,
   "metadata": {},
   "outputs": [
    {
     "name": "stdout",
     "output_type": "stream",
     "text": [
      "497\n",
      "Frame 0\n",
      "Frame 100\n",
      "Frame 200\n",
      "Frame 300\n",
      "Frame 400\n",
      "[130.3548471191971, 126.15378728424561, 132.26757131617072, 131.58078558260743, 130.36974698168484, 133.8948458231916, 126.10830908896192, 131.65680222803297, 131.87974640730744, 129.93911455982615, 129.54904677530115, 129.64044950609906, 124.33031740642686, 121.34575243040983, 128.22559724311532, 132.40908866533752, 129.06469459011294, 128.36724322595086, 126.2744023979616, 120.51773955080462, 123.96702874779533, 133.29055398835223, 127.21012894239747, 131.66495039534564, 129.32719080333177, 131.68971155020233, 129.81296783023308, 130.18470210399386, 129.15898591807107, 128.95937585412594, 128.154539390093, 128.7923291656114, 126.6139467583996, 128.384450493172, 130.984318441854, 125.15926993435778, 127.6651241089155, 128.64474941467776, 127.72587213817698, 126.30643926147206, 127.74174808080602, 119.94125050881074, 128.12948004850207, 126.83108396834007, 127.68372911680338, 126.93364789031672, 130.74776830207205, 127.28791887012214, 117.4690357548666, 129.7248153437315, 127.92462329199739, 128.3522157609678, 128.66599802340338, 129.10058739290156, 126.39087560601408, 130.19969114184255, 129.84601112842557, 128.54057969551255, 131.6305484133129, 130.88079950185502, 130.81204373916904, 129.47348206816946, 126.64594498444882, 125.04953917453227, 128.81755083869425, 128.84719989036395, 129.38385752968466, 130.52341029269866, 130.0716390424763, 120.1396178957948, 133.23218707890538, 132.62833728348696, 131.22630097127944, 129.76062382060397, 126.79962970758082, 122.47115678962895, 130.60246944283494, 129.13361663741935, 121.61605763847378, 117.35747369048194, 124.1351524171118, 109.32829860576167, 123.26597049705035, 130.27544385772993, 125.23159078720197, 118.2082320818639, 128.34597082669816, 116.4333751124839, 130.56236125740992, 115.26192563258705, 125.84418556771918, 126.90228806713156, 127.54674447679001, 128.92896379952487, 131.1775588878075, 126.66281463648397, 131.98963701233708, 125.4256571497508, 125.26034411712453, 128.57776372496943, 127.81310985977808, 111.77310255676208, 121.44489194106824, 125.03349130329896, 122.72462102046426, 128.10837599254327, 124.5325782243522, 119.75470836652529, 115.96555519145407, 128.04315177795448, 132.2137407497809, 122.12466368026702, 123.8361737970053, 122.78336381716821, 130.58525984143233, 134.79254836409572, 131.1724717082624, 115.16330200061981, 116.71573217914693, 122.18987523832465, 128.32848235099274, 136.39843448574095, 134.46582006504806, 124.78436431521091, 124.86710179599434, 116.25653351062091, 130.1066053584877, 132.90872366313434, 131.0159693300592, 116.2846581613881, 124.28710493826603, 121.8724412670856, 132.94835058424056, 124.79036019971188, 123.14111501056986, 110.10555176422154, 128.64020564977184, 111.2449589500263, 125.68534616550235, 126.36788581869168, 124.1193779641163, 111.15988937894831, 133.17802630326184, 127.58383778953944, 128.28533256300582, 124.41263623572014, 126.64975426913963, 110.20917201869123, 124.27689011522108, 121.2382910278415, 119.80738735067703, 124.0222880681763, 124.05882588521956, 127.63804374823337, 125.23179960144775, 123.14028981812794, 126.16807123719296, 116.20673305704638, 124.95551642785205, 117.54581353610483, 114.64161539591535, 124.1324760924436, 117.61566119671163, 124.05150451114683, 124.89788005139748, 123.88702441348423, 122.41184574215879, 132.2182808009732, 117.514436623173, 125.15503203697266, 124.83030898361459, 118.67957737190265, 117.6639802054552, 115.71153505858256, 128.62635559949376, 123.27320503337153, 114.4558710494573, 113.38312087100704, 112.19830120802442, 124.2850562190878, 106.2683447016353, 115.45877310134195, 121.21923462252174, 115.94185944158677, 116.85005101392049, 112.96223960464954, 121.80409544059701, 94.06418507338402, 115.52671277354214, 117.43507063989591, 111.3833460266589, 113.69970111474646, 114.87616505477773, 107.83083038808016, 116.00885934381388, 122.52129898976912, 123.00182151372813, 107.91977285568075, 109.95923711640944, 121.06688278738925, 116.23312272167779, 118.71884567548867, 118.01761498016972, 104.71746119546219, 121.99264220329862, 107.83279423962065, 117.26454531678715, 118.88346993040587, 115.13140211101447, 106.60191843713666, 125.7235994255955, 113.56411204113537, 123.23690200536177, 123.6859347633765, 105.6321631081923, 112.96501674863184, 114.42332107401175, 122.19689175542267, 118.1256504174425, 109.72013914586479, 107.18935104074926, 100.03460339461559, 110.04792219077808, 118.884357050145, 110.68999746840156, 99.0052550521527, 113.81211872634965, 113.477087986931, 120.02354893010724, 121.55252112868718, 121.2621957710355, 114.03083117548299, 118.09218444543676, 101.99851816440217, 115.27926028575772, 111.03286903744045, 113.07663657127027, 112.88433731362574, 108.50475148438024, 113.88883994090982, 113.23384059748714, 109.84891632197036, 117.14052149608155, 117.22454486844275, 122.54947593989253, 115.71806491980811, 101.82457750845387, 114.27673546978637, 122.18585984099512, 99.56899853965419, 123.93913105895685, 112.03170284700585, 114.0233288152369, 111.831332551975, 118.58941429961688, 109.32065454039005, 112.60444844100162, 120.4408639822113, 118.82909285175315, 109.80318158868906, 117.36373983675155, 117.88079055000155, 117.80177099683966, 117.42823621216519, 114.07045818154137, 112.77413677114738, 119.5885047890912, 116.93213448196869, 125.41618890767445, 99.64904300923676, 118.1854020701055, 97.69293991272366, 119.4817660814771, 118.18277783023687, 122.7377210059459, 112.51975662560832, 117.102170634616, 121.17179211118176, 127.87955504586559, 124.18592988665097, 118.2335941459483, 121.47912777107352, 122.0942454349006, 132.84329026627177, 133.2469865004756, 118.6399084090903, 126.25133219146076, 104.8742201227828, 115.35545001853302, 124.93872884151375, 128.49168537735073, 116.9081730450937, 114.88658413768303, 126.37371328206618, 115.33898664817396, 121.65102785510693, 110.58936835728869, 123.20317242199123, 100.67589167726346, 125.28942682247623, 123.87310613728278, 123.41243937413691, 103.47626876089748, 120.96102240001731, 115.07031424411072, 125.11376271594891, 119.98464079945145, 117.3667443381346, 120.01504647939944, 117.34109124603889, 121.74362349496099, 125.42533409390778, 126.74758775949472, 116.49053704886997, 120.148606208981, 109.856013498825, 111.80224683992368, 127.29619484769373, 122.79759242333955, 116.00379038343053, 130.7501576164566, 122.17515332979936, 130.83051797006343, 115.80933351730766, 120.41251600716616, 109.79435351048704, 116.67845177226546, 126.66925009069583, 121.01003556321758, 115.66434525164152, 125.152597636974, 121.58086618045853, 128.1187746404247, 111.63212544375686, 112.57615208904821, 116.27643775954523, 124.0337886321297, 118.70065529512318, 110.03701015542572, 123.57305679809923, 122.39026263833172, 125.31426340515294, 122.05869066552843, 110.27530818977101, 129.62124304648896, 98.04975875106662, 122.74164022278222, 113.54574780450301, 119.68352476123343, 123.73545065243759, 116.64145033048082, 109.01268503567437, 128.4436506956102, 122.49391255855289, 122.66144713093854, 119.48667563163241, 111.26185852098806, 117.80942495730233, 123.20758885122913, 112.43463342046552, 121.09133751928418, 121.93280348984997, 113.19407122364642, 108.64963591687489, 104.44813441960115, 109.72101687910562, 109.47154992117771, 112.57611307985, 121.09347498880479, 113.05386286932402, 112.73747274115107, 121.31346383538225, 113.36578330663171, 120.48643635269073, 117.79394894098732, 122.08519445500347, 117.71030875849993, 115.65262209588082, 108.64036509830044, 103.99206563082485, 118.17276055783867, 121.82858473622113, 115.28618912268074, 120.49795072279016, 128.20870092801394, 111.02592794129984, 120.45584791936788, 115.9147727309575, 117.36538549460532, 120.96134624225766, 113.0594078946076, 108.63514459425399, 128.9770362868721, 122.84014406550189, 115.1672491988079, 108.69796117702863, 120.48452390902773, 109.58325397695221, 113.45068205017274, 114.35153025733345, 113.8244104082229, 106.76929741854782, 119.09224431055634, 118.24698515351139, 109.43082283471419, 113.42857657212242, 114.57323755120353, 113.12173277662167, 112.36207820162403, 110.22861577876638, 102.92947623490808, 105.26981869541453, 123.1780452716871, 109.04146988607083, 113.93260827144806, 115.49205735087658, 97.21957140157413, 110.74278381108273, 110.41288956046428, 117.80574468978807, 111.20827244378775, 119.99959796355537, 101.24665315306059, 106.9345838178543, 114.83734953753151, 108.43213647512421, 108.1086835115511, 112.53990147671007, 110.94764068634485, 109.9376119268349, 115.35793748942521, 115.48200508891283, 97.47660514584312, 115.39280641458576, 100.87663541204903, 107.38653364228264, 118.28758830606498, 110.0311247038991, 104.07174800005572, 112.7307584905461, 109.26100668279133, 105.77169079209675, 119.51312652486112, 120.61410238023046, 107.18006992724769, 112.55708520717933, 119.0269581366504, 119.34869826624681, 113.21021991181885, 108.30940860188898, 122.18988068784876, 115.9270677262568, 113.73699414343362, 108.49050466745857, 114.22187592649149, 117.3836175241297, 120.43676496343262, 115.62970355150782, 118.10230655330305, 119.76136150567552, 117.43131641561573, 116.79997325928714, 113.41804841530498, 106.5825097921523, 112.73229404017137, 115.5349215335417, 111.85041191560268, 115.84180892068605, 119.57093704799064, 115.71559057464579, 122.32135843066598, 112.70608958644709, 116.79115346782996, 115.01880552705809, 121.1112866783397, 110.64036335799402, 111.22581236812525, 123.16699073844744, 116.80498547698345, 106.90204793918019, 116.33675649290473, 104.89741930658303, 115.48508043397891, 115.20240386875832, 112.87990815767083, 121.24687632060363, 115.96584965653219, 115.47940268533533, 113.16105673123592, 108.23084645291972, 118.74840005035217, 115.621509743381, 117.56862809471896, 118.40877245796398, 114.28637091971532, 111.1153012497023, 114.0872057054661]\n",
      "119.24993793414708\n"
     ]
    }
   ],
   "source": [
    "avg_speed = []\n",
    "row = 0\n",
    "print(len(dataframes))\n",
    "\n",
    "for k in range(len(dataframes)):\n",
    "    df = dataframes[k] #getting individual frame data\n",
    "    speeds = []\n",
    "    speed_arr = []\n",
    "\n",
    "    for i in range(len(df)): \n",
    "        u = df.loc[i][2] #getting u component\n",
    "        v = df.loc[i][3] #getting v component\n",
    "        speed = np.sqrt(u**2 + v**2) #calculating speed for the position\n",
    "        speed_arr.append(speed) #adding the speed value to the array\n",
    "\n",
    "    avg_speed.append(np.average(speed_arr)) #average speed for the frame\n",
    "\n",
    "    #counter to help track progress\n",
    "    if k/100 == int(k/100):\n",
    "        print(\"Frame {}\".format(k))\n",
    "\n",
    "\n",
    "print(avg_speed) #printing the avg speed array\n",
    "flow_speed = np.average(avg_speed) #calculating the average flow speed\n",
    "print(flow_speed) #displaying average flow speed\n"
   ]
  },
  {
   "cell_type": "code",
   "execution_count": 4,
   "metadata": {},
   "outputs": [
    {
     "name": "stdout",
     "output_type": "stream",
     "text": [
      "Re_cyl: 4520.760 \n",
      "Re_MAC: 9591.350\n"
     ]
    }
   ],
   "source": [
    "#constants\n",
    "rho = 997 #kg/m^3\n",
    "mu = 1.002E-3 #Ns/m^2\n",
    "flow_speed = np.average(avg_speed)/1000 #m/s\n",
    "r_c = 101.6 #mm\n",
    "r_t = 57.66 #mm\n",
    "Cyl_dia = 1.5/39.37 #m\n",
    "\n",
    "t = (r_t/r_c) #non-dimensional, taper ratio\n",
    "MAC = r_c * .66 * ((1+t+t**2)/(1+t))/1000 #m, mean aerodynamic chord\n",
    "\n",
    "Re_cyl = (rho*flow_speed*Cyl_dia)/mu\n",
    "Re_MAC = (rho*flow_speed*MAC)/mu\n",
    "\n",
    "print(\"Re_cyl: {:.3f} \\nRe_MAC: {:.3f}\".format(Re_cyl, Re_MAC))"
   ]
  },
  {
   "cell_type": "markdown",
   "metadata": {},
   "source": [
    "# Part 2\n",
    "A python function will take in the instantaneous vector fields for each image and then average the entire window to get the average vector field. The averaged mean turbulence RMS will also be computed "
   ]
  },
  {
   "cell_type": "code",
   "execution_count": 5,
   "metadata": {},
   "outputs": [],
   "source": [
    "#thought out method:\n",
    "## Part A: Compiling all the data\n",
    "# 1. Open the folder that contains the csv files\n",
    "# 2. Open each csv file and then place the data into a dataframe and then into an array\n",
    "# 3. Generate a panda's data frame (rows = frame #, columns = vector at position) [refer as total frame]\n",
    "\n",
    "## Part B: Determining the mean velocity field\n",
    "# 4. Calculate the vector for each position (per frame) and then populate the corresponding cell of the data frame\n",
    "# 5. After all frames have been analyzed, find the average vector value for each column (if a cell is NaN, 0, -1.#ND, etc. it is not included)(every column is the same position between frames)\n",
    "# 6. Populate the Average_data_frame with the average vector value (row = position, column = vector)\n",
    "\n",
    "## Part C: Determining the RMS mean velocity field\n",
    "# 7. Using the total data frame, subtract the mean velocity from each position\n",
    "# 8. Populate new total_RMS_frame\n",
    "# 9. Average the columns, and populate the RMS_data_frame"
   ]
  },
  {
   "cell_type": "code",
   "execution_count": 198,
   "metadata": {},
   "outputs": [],
   "source": [
    "## Part A.1 and A.2 ##\n",
    "\n",
    "#getting the directory for the stored CSV's for the flow only case (ensure all \\ are \\\\)\n",
    "csvdir = \"C:\\\\Users\\\\Harrison\\\\OneDrive - University of Cincinnati\\\\Year 5\\\\Aero Lab\\\\Lab Work\\\\Lab 4\\\\Masked Data\\\\Airfoil AoA\\\\23-10-31 15.58.40\"\n",
    "\n",
    "#importing the csv files\n",
    "csvfiles = glob.glob(os.path.join(csvdir, \"*.csv\"))\n",
    "\n",
    "#creating an array to store the imported csv dataframes\n",
    "dataframes = []\n",
    "\n",
    "for csvfile in csvfiles:\n",
    "    df = pd.read_csv(csvfile) #reading each csv file\n",
    "    dataframes.append(df) #adding the dataframe from the csv into the dataframes array"
   ]
  },
  {
   "cell_type": "code",
   "execution_count": 199,
   "metadata": {},
   "outputs": [
    {
     "name": "stdout",
     "output_type": "stream",
     "text": [
      "Frame 0.0 took 1.853 s to compute\n",
      "Frame 100.0 took 1.167 s to compute\n",
      "Frame 200.0 took 1.556 s to compute\n",
      "Frame 300.0 took 1.178 s to compute\n",
      "Frame 400.0 took 1.311 s to compute\n",
      "Frame 500.0 took 1.101 s to compute\n"
     ]
    }
   ],
   "source": [
    "## Part A.3 & B.4 ##\n",
    "#importing time to track how long it takes to compute\n",
    "import time\n",
    "\n",
    "#creating a dataframe with number of columns equal to the number of data points\n",
    "#the row is equal to the frame # while the column # is the position of the vector\n",
    "dt = dataframes[0]\n",
    "vector_total_frame = pd.DataFrame(columns=np.arange(len(dt)))\n",
    "u_total_frame = pd.DataFrame(columns=np.arange(len(dt)))\n",
    "v_total_frame = pd.DataFrame(columns=np.arange(len(dt)))\n",
    "\n",
    "for k in range(len(dataframes)):\n",
    "    dt = dataframes[k]\n",
    "    vector_values = []\n",
    "    u_values = []\n",
    "    v_values = []\n",
    "\n",
    "    #initial time\n",
    "    if k/100 == int(k/100):\n",
    "        time0 = time.time()\n",
    "    \n",
    "    #computing the vector for each position\n",
    "    for i in range(len(dt)):\n",
    "        vector = np.sqrt((dt.loc[i][2]*(1/1.3499/0.019))**2 + (dt.loc[i][3]*(1/1.3499/0.019))**2) #calculating the vector\n",
    "        vector_values.append(vector) #adding vector value to array\n",
    "        u_values.append(dt.loc[i][2]*(1/1.3499/0.019)) #u values\n",
    "        v_values.append(dt.loc[i][3]*(1/1.3499/0.019)) #v values\n",
    "        \n",
    "    #adding the computed vectors to the total_data frame\n",
    "    vector_total_frame.loc[k] = vector_values \n",
    "    u_total_frame.loc[k] = u_values\n",
    "    v_total_frame.loc[k] = v_values\n",
    "\n",
    "    if k/100 == int(k/100):\n",
    "        timef = time.time() #time after computation\n",
    "        timet = timef - time0\n",
    "        print(\"Frame {:.1f} took {:.3f} s to compute\".format(k, timet))"
   ]
  },
  {
   "cell_type": "code",
   "execution_count": 194,
   "metadata": {},
   "outputs": [
    {
     "name": "stdout",
     "output_type": "stream",
     "text": [
      "           0           1           2           3           4           5     \\\n",
      "0    137.967830  146.784410  135.000727  136.120386  134.191021  155.349907   \n",
      "1      0.000000  159.055446  166.757149  172.443384  168.247081  161.249903   \n",
      "2    100.857760   55.585613  109.263939  156.247022  135.175335  158.071202   \n",
      "3    148.771461  133.910840  153.381406  171.072775    0.000000  129.570442   \n",
      "4    163.038223  164.647731  161.226358  164.602347  166.837102  156.039473   \n",
      "..          ...         ...         ...         ...         ...         ...   \n",
      "482  116.676004  121.985854  151.428179  182.466069  176.008550  175.064767   \n",
      "483  106.626164  199.285884  128.514363  148.585317  189.310095  170.016161   \n",
      "484    0.000000  136.237077  137.152407  154.012343  169.033329  173.880681   \n",
      "485  136.920977  152.809645  174.000992  168.790797  164.083759    0.000000   \n",
      "486  165.074610  167.152120  159.699002  155.632677  152.781018  187.392585   \n",
      "\n",
      "           6           7           8           9     ...        4651  \\\n",
      "0    156.455821  157.042949  165.267764  156.338278  ...  111.443139   \n",
      "1    164.185918  181.520544  180.415406  184.902942  ...  106.404647   \n",
      "2    166.421418  163.446127  147.424034  163.137565  ...    0.000000   \n",
      "3    157.570529  146.199469  137.761944  137.306377  ...  121.850997   \n",
      "4    171.562281  186.386912  170.497735  167.864482  ...   72.513244   \n",
      "..          ...         ...         ...         ...  ...         ...   \n",
      "482  180.234622  198.363978  197.792085  177.498874  ...   45.339352   \n",
      "483  158.132837  185.187272  197.389466  187.494434  ...  115.163356   \n",
      "484  167.178518  159.557507  155.371903  163.620228  ...  104.942888   \n",
      "485  165.891202  165.481001  152.284254  142.721034  ...  121.799261   \n",
      "486  208.970211  160.244628   61.884982  152.902772  ...  103.325808   \n",
      "\n",
      "           4652        4653        4654        4655        4656        4657  \\\n",
      "0     93.000558  107.960126   88.031791   79.747026   35.184723   45.090416   \n",
      "1     71.978613  138.213121  138.433303  131.541768  116.697050  113.787172   \n",
      "2      0.000000    0.000000    0.000000    0.000000    0.000000    0.000000   \n",
      "3    117.642335   87.094795   88.816070   83.499680   74.567337   77.839896   \n",
      "4    112.770118  141.602299  141.581571  110.524161   53.547214   55.643592   \n",
      "..          ...         ...         ...         ...         ...         ...   \n",
      "482   57.486328   74.906632  115.291731  103.317587  112.794672  110.982690   \n",
      "483  128.537645  111.267466  104.116339  114.803923  103.261313  127.407205   \n",
      "484  103.530454   84.647546   87.104523   88.999191   83.531118   97.555009   \n",
      "485  128.062023  110.268986  108.394389   85.705373   71.772304   96.202941   \n",
      "486   96.196198   85.145482  109.186694  119.208080  100.091555   82.203795   \n",
      "\n",
      "           4658        4659        4660  \n",
      "0     78.798038  100.085244   89.020884  \n",
      "1    130.319549  134.383102    0.000000  \n",
      "2      0.000000    0.000000    0.000000  \n",
      "3     85.634416   83.442413   87.209081  \n",
      "4     60.646969   78.502279   46.283594  \n",
      "..          ...         ...         ...  \n",
      "482   76.148908  185.507908    0.000000  \n",
      "483  107.193860  112.388691  123.983774  \n",
      "484   84.952681   39.380628   41.758417  \n",
      "485   96.810362  118.074500  142.300199  \n",
      "486   77.207067   72.114700    0.000000  \n",
      "\n",
      "[487 rows x 4661 columns]\n"
     ]
    }
   ],
   "source": [
    "#Debugging cell\n",
    "print(vector_total_frame)"
   ]
  },
  {
   "cell_type": "code",
   "execution_count": 200,
   "metadata": {},
   "outputs": [
    {
     "name": "stdout",
     "output_type": "stream",
     "text": [
      "Positions placed in: 8.43 s\n"
     ]
    }
   ],
   "source": [
    "## Part B.5 and B.6 ##\n",
    "# Determining the average vector for the cell\n",
    "\n",
    "#creating the Average_data_frame\n",
    "Average_data_frame = pd.DataFrame(columns=[\"x\", \"y\", \"u\", \"v\", \"vector\"])\n",
    "\n",
    "dt = dataframes[0]\n",
    "\n",
    "#populating Average_data_frame with the x and y coords\n",
    "time0 = time.time()\n",
    "for i in range(len(dt)):\n",
    "    Average_data_frame.loc[i] = dt.loc[i][0]\n",
    "    Average_data_frame.loc[i][1] = dt.loc[i][1]\n",
    "timef = time.time()\n",
    "print(\"Positions placed in: {:.2f} s\".format(timef-time0))\n",
    "\n",
    "#calculating the average value\n",
    "for k in range(len(dt)): #iterating through the columns (each column is a position)\n",
    "    vector_avg = 0\n",
    "    u_avg = 0\n",
    "    v_avg = 0\n",
    "    v_divider = 0\n",
    "    u_divider = 0\n",
    "    vec_divider = 0\n",
    "\n",
    "    #checking the vectors for if the value is zero or null\n",
    "    for i in range(len(dataframes)): #iterating the row \n",
    "        if vector_total_frame.loc[i][k] != 0: #pd.isnull(total_frame.loc[i][k]) == False:\n",
    "            vector_avg = vector_avg + vector_total_frame.loc[i][k] #adding the values together\n",
    "            vec_divider = vec_divider + 1 #number of usable values\n",
    "        \n",
    "        if u_total_frame.loc[i][k] != 0:\n",
    "            u_avg = u_avg + u_total_frame.loc[i][k]\n",
    "            u_divider = u_divider + 1\n",
    "        \n",
    "        if v_total_frame.loc[i][k] != 0:\n",
    "            v_avg = v_avg + v_total_frame.loc[i][k]\n",
    "            v_divider = v_divider + 1\n",
    "        else:\n",
    "            divider = divider #keeping the divisible number constant\n",
    "    \n",
    "    #Calculating the average vector and adding it to the frame\n",
    "    if u_divider != 0:\n",
    "        Average_data_frame.loc[k][2] = u_avg/u_divider\n",
    "    else:\n",
    "        Average_data_frame.loc[k][2] = 0\n",
    "\n",
    "    if v_divider != 0:\n",
    "        Average_data_frame.loc[k][3] = v_avg/v_divider\n",
    "    else:\n",
    "        Average_data_frame.loc[k][3] = 0\n",
    "\n",
    "    if vec_divider != 0:\n",
    "        Average_data_frame.loc[k][4] = vector_avg/vec_divider\n",
    "    else:\n",
    "        Average_data_frame.loc[k][4] = 0 \n",
    "\n",
    "Average_data_frame.to_csv(\"Average_Data Airfoil AoA.csv\")\n",
    "\n",
    "# print(Average_data_frame)"
   ]
  },
  {
   "cell_type": "markdown",
   "metadata": {},
   "source": [
    "### ONLY RUN THIS CELL IF IT IS THE FREE STREAM CONDITION"
   ]
  },
  {
   "cell_type": "code",
   "execution_count": 173,
   "metadata": {},
   "outputs": [],
   "source": [
    "## Getting Free-Stream Values\n",
    "# u_free_stream = Average_data_frame[\"u\"].to_numpy()\n",
    "# v_free_stream = Average_data_frame[\"v\"].to_numpy()\n",
    "# vector_free_stream = Average_data_frame[\"vector\"].to_numpy()"
   ]
  },
  {
   "cell_type": "code",
   "execution_count": 201,
   "metadata": {},
   "outputs": [
    {
     "name": "stdout",
     "output_type": "stream",
     "text": [
      "           0           1          2          3          4           5     \\\n",
      "0   -137.482704 -118.505953  17.885414  10.151625  10.945689 -181.301938   \n",
      "1      3.448242   -5.679162  -9.193632  -3.633633 -13.405415    9.498015   \n",
      "2     -2.322611   -1.635312 -33.847351 -39.273922 -13.105366  -20.617146   \n",
      "3     11.457181  -29.916187  49.980527  -42.74781  -6.046783   -13.71047   \n",
      "4   -156.399417   -3.098804   -4.62012   5.959997  27.168063   -42.23232   \n",
      "..          ...         ...        ...        ...        ...         ...   \n",
      "509    1.145827   -1.950345  26.950758 -10.181905  13.088785    7.756541   \n",
      "510    0.280879  -35.048811  -6.421018  -18.58877  12.012166   20.819824   \n",
      "511    2.275872   -7.059608 -11.474314  -2.143848  11.769167   18.848644   \n",
      "512 -156.399417   36.409837  32.560135  33.631551  14.595577   -5.046246   \n",
      "513   23.791498   33.018407  10.071352  -1.762331 -14.583336 -181.301938   \n",
      "\n",
      "           6          7          8          9     ...        4651       4652  \\\n",
      "0   -181.556908 -18.233359  -3.656444  -5.910195  ...  -31.036305 -66.361461   \n",
      "1     -7.446452 -15.354772 -16.277958   -19.3852  ... -113.480869 -118.41475   \n",
      "2    -26.583445 -24.101239  -8.947967 -26.082206  ...  -28.139059 -24.855538   \n",
      "3    -11.778345  18.531402  17.508619   18.62811  ...   14.974473   6.940705   \n",
      "4    -23.619382 -11.955326  -7.530377 -19.240963  ...   -14.63662  30.910162   \n",
      "..          ...        ...        ...        ...  ...         ...        ...   \n",
      "509    1.939319  -1.417034  -24.92113  30.206373  ...    6.719214 -55.211721   \n",
      "510    13.70511  11.028631  14.496547  11.523434  ...  -29.115691    2.14734   \n",
      "511   15.215793   8.687272   4.800949   2.286505  ...   30.109523  11.277652   \n",
      "512   -8.659443 -11.783994  -9.199212 -20.548568  ...   -3.099825   1.736438   \n",
      "513   -9.504821 -10.139082  -9.726778  -9.475834  ...    1.208522 -10.963501   \n",
      "\n",
      "           4653        4654        4655        4656        4657        4658  \\\n",
      "0   -110.571949 -115.876354 -112.443428 -115.450847 -116.682491  -93.212121   \n",
      "1    -23.602961    0.168842    5.593573   32.095831   10.797447   59.651834   \n",
      "2   -118.061834 -115.876354 -112.443428 -115.450847   87.253769   34.713632   \n",
      "3       3.57946  -11.947983   19.425801   12.459591   11.337781     6.29017   \n",
      "4     20.863142    1.272839   13.487018    6.530445    5.251214    7.446928   \n",
      "..          ...         ...         ...         ...         ...         ...   \n",
      "509  -59.104336   16.436412   62.267932   12.142558    9.859845   13.792193   \n",
      "510   14.283615   29.650589   14.709695   39.174645   42.107345 -115.053902   \n",
      "511   11.911977    3.772736    -6.73542  -12.435091   46.518965   44.708333   \n",
      "512   15.204468   18.766968   35.536673   54.279609   86.913967   77.649621   \n",
      "513   23.815695   38.032077    6.578266   -1.434731   -1.495739    9.682705   \n",
      "\n",
      "          4659        4660  \n",
      "0   -32.110043   19.678636  \n",
      "1    41.442961   45.611318  \n",
      "2   -40.230637  -34.290039  \n",
      "3    -7.377339 -107.588179  \n",
      "4    10.035003   16.368695  \n",
      "..         ...         ...  \n",
      "509 -14.585923 -107.588179  \n",
      "510 -114.83239 -107.588179  \n",
      "511 -97.505434  -89.707703  \n",
      "512   78.33617  -85.959469  \n",
      "513   3.020149    7.690826  \n",
      "\n",
      "[514 rows x 4661 columns]\n"
     ]
    }
   ],
   "source": [
    "## Part C ##\n",
    "# Creating the RMS dataframe\n",
    "RMS = pd.DataFrame(index=np.arange(len(dataframes)), columns=np.arange(len(dt)))\n",
    "\n",
    "#computing the RMS for each cell\n",
    "for i in range(len(dataframes)): #row of the Mean_RMS\n",
    "    for j in range(len(vector_total_frame.loc[0][:])): #columns of Mean_RMS\n",
    "        RMS.loc[i][j] = (vector_total_frame.loc[i][j] - Average_data_frame.loc[j][4])\n",
    "\n",
    "print(RMS)\n"
   ]
  },
  {
   "cell_type": "code",
   "execution_count": 202,
   "metadata": {},
   "outputs": [],
   "source": [
    "#Computing the mean RMS\n",
    "mean_RMS = pd.DataFrame(columns=[\"Mean RMS\"])\n",
    "\n",
    "for i in range(len(dataframes)):\n",
    "    avg = 0\n",
    "    divider = 0\n",
    "    \n",
    "    for j in range(len(RMS)):\n",
    "        if pd.isnull(RMS.loc[j][i]) == False:\n",
    "            avg = avg + RMS.loc[i][j]\n",
    "            divider = divider + 1\n",
    "        else:\n",
    "            divider = divider\n",
    "\n",
    "    RMS_avg = avg/divider\n",
    "    mean_RMS.loc[i] = RMS_avg\n",
    "\n",
    "mean_RMS.to_csv(\"Mean RMS Airfoil AoA.csv\")"
   ]
  },
  {
   "cell_type": "markdown",
   "metadata": {},
   "source": [
    "# Part 3"
   ]
  },
  {
   "cell_type": "code",
   "execution_count": 11,
   "metadata": {},
   "outputs": [],
   "source": [
    "#Opening the CSVs for each case\n",
    "free_stream_csvdir = \"C:\\\\Users\\\\Harrison\\\\OneDrive - University of Cincinnati\\\\Year 5\\\\Aero Lab\\\\Lab Work\\\\Lab 4\\\\Average_Data Free Stream.csv\"\n",
    "cylinder_csvdir = \"C:\\\\Users\\\\Harrison\\\\OneDrive - University of Cincinnati\\\\Year 5\\\\Aero Lab\\\\Lab Work\\\\Lab 4\\\\Average_Data Cylinder.csv\"\n",
    "airfoil0_csvdir = \"C:\\\\Users\\\\Harrison\\\\OneDrive - University of Cincinnati\\\\Year 5\\\\Aero Lab\\\\Lab Work\\\\Lab 4\\\\Average_Data Airfoil 0 AoA.csv\"\n",
    "airfoil_csvdir = \"C:\\\\Users\\\\Harrison\\\\OneDrive - University of Cincinnati\\\\Year 5\\\\Aero Lab\\\\Lab Work\\\\Lab 4\\\\Average_Data Airfoil AoA.csv\"\n",
    "\n",
    "\n",
    "fs_avg = pd.read_csv(free_stream_csvdir)\n",
    "c_avg = pd.read_csv(cylinder_csvdir)\n",
    "af0_avg = pd.read_csv(airfoil0_csvdir)\n",
    "af_avg = pd.read_csv(airfoil_csvdir)"
   ]
  },
  {
   "cell_type": "code",
   "execution_count": null,
   "metadata": {},
   "outputs": [],
   "source": [
    "## Quiver Plot ##\n",
    "\n",
    "# Getting the Data \n",
    "x_fs = fs_avg[\"x\"].to_numpy()\n",
    "y_fs = fs_avg[\"y\"].to_numpy()\n",
    "u_fs = fs_avg[\"u\"].to_numpy()\n",
    "v_fs = fs_avg[\"v\"].to_numpy()\n",
    "\n",
    "x_c = c_avg[\"x\"].to_numpy()\n",
    "y_c = c_avg[\"y\"].to_numpy()\n",
    "u_c = c_avg[\"u\"].to_numpy()\n",
    "v_c = c_avg[\"v\"].to_numpy()\n",
    "\n",
    "x_af0 = af0_avg[\"x\"].to_numpy()\n",
    "y_af0 = af0_avg[\"y\"].to_numpy()\n",
    "u_af0 = af0_avg[\"u\"].to_numpy()\n",
    "v_af0 = af0_avg[\"v\"].to_numpy()\n",
    "\n",
    "x_af = af_avg[\"x\"].to_numpy()\n",
    "y_af = af_avg[\"y\"].to_numpy()\n",
    "u_af = af_avg[\"u\"].to_numpy()\n",
    "v_af = af_avg[\"v\"].to_numpy()\n",
    "\n",
    "#Plotting every other 4 data point\n",
    "plt.quiver(x_fs[::4], y_fs[::4], u_fs[::4], v_fs[::4])\n",
    "plt.xlabel(\"x Position (px)\")\n",
    "plt.ylabel(\"y Position (px)\")\n",
    "plt.title(\"Free Stream\")\n",
    "plt.show()\n",
    "\n",
    "plt.quiver(x_c[::4], y_c[::4], u_c[::4], v_c[::4])\n",
    "plt.xlabel(\"x Position (px)\")\n",
    "plt.ylabel(\"y Position (px)\")\n",
    "plt.title(\"Cylinder\")\n",
    "plt.show()\n",
    "\n",
    "plt.quiver(x_af0[::4], y_af0[::4], u_af0[::4], v_af0[::4])\n",
    "plt.xlabel(\"x Position (px)\")\n",
    "plt.ylabel(\"y Position (px)\")\n",
    "plt.title(\"Airfoil 0 AoA\")\n",
    "plt.show()\n",
    "\n",
    "plt.quiver(x_af[::4], y_af[::4], u_af[::4], v_af[::4])\n",
    "plt.xlabel(\"x Position (px)\")\n",
    "plt.ylabel(\"y Position (px)\")\n",
    "plt.title(\"Airfoil 16deg AoA\")\n",
    "plt.show()"
   ]
  },
  {
   "cell_type": "markdown",
   "metadata": {},
   "source": [
    "# Part 4"
   ]
  },
  {
   "cell_type": "code",
   "execution_count": null,
   "metadata": {},
   "outputs": [],
   "source": [
    "## Contour plots\n",
    "fs_vector = fs_avg[\"vector\"].to_numpy()\n",
    "c_vector = c_avg[\"vector\"].to_numpy()\n",
    "af0_vector = af0_avg[\"vector\"].to_numpy()\n",
    "af_vector = af_avg[\"vector\"].to_numpy()\n",
    "\n",
    "#plotting the contours\n",
    "#Free Stream\n",
    "u_plot_fs = plt.tricontourf(x_fs,y_fs,u_fs, cmap=\"inferno\")\n",
    "plt.xlabel(\"x Position (px)\")\n",
    "plt.ylabel(\"y Position (px)\")\n",
    "plt.title(\"U velocity Profile, Free Stream\")\n",
    "cbar = plt.colorbar(u_plot_fs)\n",
    "cbar.set_label(\"mm/s\")\n",
    "plt.show()\n",
    "\n",
    "v_plot_fs = plt.tricontourf(x_fs,y_fs,v_fs, cmap=\"inferno\")\n",
    "plt.xlabel(\"x Position (px)\")\n",
    "plt.ylabel(\"y Position (px)\")\n",
    "plt.title(\"V velocity Profile, Free Stream\")\n",
    "cbar = plt.colorbar(v_plot_fs)\n",
    "cbar.set_label(\"mm/s\")\n",
    "plt.show()\n",
    "\n",
    "vector_plot_fs = plt.tricontourf(x_fs,y_fs,fs_vector, cmap=\"inferno\")\n",
    "plt.xlabel(\"x Position (px)\")\n",
    "plt.ylabel(\"y Position (px)\")\n",
    "plt.title(\"Vector velocity Profile, Free Stream\")\n",
    "cbar = plt.colorbar(vector_plot_fs)\n",
    "cbar.set_label(\"mm/s\")\n",
    "plt.show()\n",
    "\n",
    "#Cylinder\n",
    "u_plot_c = plt.tricontourf(x_c,y_c,u_c, cmap=\"inferno\")\n",
    "plt.xlabel(\"x Position (px)\")\n",
    "plt.ylabel(\"y Position (px)\")\n",
    "plt.title(\"U velocity Profile, Cylinder\")\n",
    "cbar = plt.colorbar(u_plot_c)\n",
    "cbar.set_label(\"mm/s\")\n",
    "plt.show()\n",
    "\n",
    "v_plot_c = plt.tricontourf(x_c,y_c,v_c, cmap=\"inferno\")\n",
    "plt.xlabel(\"x Position (px)\")\n",
    "plt.ylabel(\"y Position (px)\")\n",
    "plt.title(\"V velocity Profile, Cylinder\")\n",
    "cbar = plt.colorbar(v_plot_c)\n",
    "cbar.set_label(\"mm/s\")\n",
    "plt.show()\n",
    "\n",
    "vector_plot_c = plt.tricontourf(x_c,y_c,c_vector, cmap=\"inferno\")\n",
    "plt.xlabel(\"x Position (px)\")\n",
    "plt.ylabel(\"y Position (px)\")\n",
    "plt.title(\"Vector velocity Profile, Cylinder\")\n",
    "cbar = plt.colorbar(vector_plot_c)\n",
    "cbar.set_label(\"mm/s\")\n",
    "plt.show()\n",
    "\n",
    "#Airfoil 0 AoA\n",
    "u_plot_af0 = plt.tricontourf(x_af0,y_af0,u_af0, cmap=\"inferno\")\n",
    "plt.xlabel(\"x Position (px)\")\n",
    "plt.ylabel(\"y Position (px)\")\n",
    "plt.title(\"U velocity Profile, Airfoil 0 AoA\")\n",
    "cbar = plt.colorbar(u_plot_af0)\n",
    "cbar.set_label(\"mm/s\")\n",
    "plt.show()\n",
    "\n",
    "v_plot_af0 = plt.tricontourf(x_af0,y_af0,v_af0, cmap=\"inferno\")\n",
    "plt.xlabel(\"x Position (px)\")\n",
    "plt.ylabel(\"y Position (px)\")\n",
    "plt.title(\"V velocity Profile, Airfoil 0 AoA\")\n",
    "cbar = plt.colorbar(v_plot_af0)\n",
    "cbar.set_label(\"mm/s\")\n",
    "plt.show()\n",
    "\n",
    "vector_plot_af0 = plt.tricontourf(x_af0,y_af0,af0_vector, cmap=\"inferno\")\n",
    "plt.xlabel(\"x Position (px)\")\n",
    "plt.ylabel(\"y Position (px)\")\n",
    "plt.title(\"Vector velocity Profile, Airfoil 0 AoA\")\n",
    "cbar = plt.colorbar(vector_plot_af0)\n",
    "cbar.set_label(\"mm/s\")\n",
    "plt.show()\n",
    "\n",
    "#Airfoil 16deg AoA\n",
    "u_plot_af = plt.tricontourf(x_af,y_af,u_af, cmap=\"inferno\")\n",
    "plt.xlabel(\"x Position (px)\")\n",
    "plt.ylabel(\"y Position (px)\")\n",
    "plt.title(\"U velocity Profile, Airfoil 16deg AoA\")\n",
    "cbar = plt.colorbar(u_plot_af)\n",
    "cbar.set_label(\"mm/s\")\n",
    "plt.show()\n",
    "\n",
    "v_plot_af = plt.tricontourf(x_af,y_af,v_af, cmap=\"inferno\")\n",
    "plt.xlabel(\"x Position (px)\")\n",
    "plt.ylabel(\"y Position (px)\")\n",
    "plt.title(\"V velocity Profile, Airfoil 16deg AoA\")\n",
    "cbar = plt.colorbar(v_plot_af)\n",
    "cbar.set_label(\"mm/s\")\n",
    "plt.show()\n",
    "\n",
    "vector_plot_af = plt.tricontourf(x_af,y_af,af_vector, cmap=\"inferno\")\n",
    "plt.xlabel(\"x Position (px)\")\n",
    "plt.ylabel(\"y Position (px)\")\n",
    "plt.title(\"Vector velocity Profile, Airfoil 16deg AoA\")\n",
    "cbar = plt.colorbar(vector_plot_af)\n",
    "cbar.set_label(\"mm/s\")\n",
    "plt.show()"
   ]
  },
  {
   "cell_type": "markdown",
   "metadata": {},
   "source": [
    "# Part 5"
   ]
  },
  {
   "cell_type": "code",
   "execution_count": 44,
   "metadata": {},
   "outputs": [
    {
     "data": {
      "image/png": "[encoded data removed]",
      "text/plain": [
       "<Figure size 432x288 with 1 Axes>"
      ]
     },
     "metadata": {
      "needs_background": "light"
     },
     "output_type": "display_data"
    },
    {
     "data": {
      "image/png": "[encoded data removed]",
      "text/plain": [
       "<Figure size 432x288 with 1 Axes>"
      ]
     },
     "metadata": {
      "needs_background": "light"
     },
     "output_type": "display_data"
    },
    {
     "data": {
      "image/png": "[encoded data removed]",
      "text/plain": [
       "<Figure size 432x288 with 1 Axes>"
      ]
     },
     "metadata": {
      "needs_background": "light"
     },
     "output_type": "display_data"
    }
   ],
   "source": [
    "#For the Cylinder\n",
    "fs = plt.quiver(x_fs[0::79], y_fs[0::79], u_fs[0::79], v_fs[0::79], label=\"fs\", color=\"red\")\n",
    "plt.quiver(x_fs[60::79], y_fs[60::79], u_fs[60::79], v_fs[60::79], color=\"red\")\n",
    "plt.quiver(x_fs[47::79], y_fs[47::79], u_fs[47::79], v_fs[47::79], color=\"red\")\n",
    "plt.quiverkey(fs, 0.6, 0.9, 1, label=\"Free Stream\", labelcolor=\"red\")\n",
    "c = plt.quiver(x_c[0::79], y_c[0::79], u_c[0::79], v_c[0::79], label=\"c\", color=\"blue\")\n",
    "plt.quiver(x_c[60::79], y_c[60::79], u_c[60::79], v_c[60::79], color=\"blue\")\n",
    "plt.quiver(x_c[47::79], y_c[47::79], u_c[47::79], v_c[47::79], color=\"blue\")\n",
    "plt.quiverkey(c, 0.6, 0.8, 1, label=\"Cylinder\", labelcolor=\"blue\")\n",
    "plt.xlabel(\"x Position (px)\")\n",
    "plt.ylabel(\"y Position (px)\")\n",
    "plt.title(\"Cylinder\")\n",
    "plt.show()\n",
    "\n",
    "#For Airfoil 0 AoA\n",
    "fs = plt.quiver(x_fs[0::79], y_fs[0::79], u_fs[0::79], v_fs[0::79], label=\"fs\", color=\"red\")\n",
    "plt.quiver(x_fs[60::79], y_fs[60::79], u_fs[60::79], v_fs[60::79], color=\"red\")\n",
    "plt.quiver(x_fs[47::79], y_fs[47::79], u_fs[47::79], v_fs[47::79], color=\"red\")\n",
    "plt.quiverkey(fs, 0.6, 0.9, 1, label=\"Free Stream\", labelcolor=\"red\")\n",
    "af0 = plt.quiver(x_af0[0::79], y_af0[0::79], u_af0[0::79], v_af0[0::79], color=\"blue\")\n",
    "plt.quiver(x_af0[60::79], y_af0[60::79], u_af0[60::79], v_af0[60::79], color=\"blue\")\n",
    "plt.quiver(x_af0[47::79], y_af0[47::79], u_af0[47::79], v_af0[47::79], color=\"blue\")\n",
    "plt.quiverkey(af0, 0.6, 0.8, 1, label=\"Airfoil\", labelcolor=\"blue\")\n",
    "plt.xlabel(\"x Position (px)\")\n",
    "plt.ylabel(\"y Position (px)\")\n",
    "plt.title(\"0deg AoA Airfoil\")\n",
    "plt.show()\n",
    "\n",
    "#For Airfoil 16 AoA\n",
    "fs = plt.quiver(x_fs[0::79], y_fs[0::79], u_fs[0::79], v_fs[0::79], label=\"fs\", color=\"red\")\n",
    "plt.quiver(x_fs[60::79], y_fs[60::79], u_fs[60::79], v_fs[60::79], color=\"red\")\n",
    "plt.quiver(x_fs[47::79], y_fs[47::79], u_fs[47::79], v_fs[47::79], color=\"red\")\n",
    "plt.quiverkey(fs, 0.6, 0.9, 1, label=\"Free Stream\", labelcolor=\"red\")\n",
    "af = plt.quiver(x_af[0::79], y_af[0::79], u_af[0::79], v_af[0::79], color=\"blue\")\n",
    "plt.quiver(x_af[60::79], y_af[60::79], u_af[60::79], v_af[60::79], color=\"blue\")\n",
    "plt.quiver(x_af[47::79], y_af[47::79], u_af[47::79], v_af[47::79], color=\"blue\")\n",
    "plt.quiverkey(af, 0.6, 0.8, 1, label=\"Airfoil\", labelcolor=\"blue\")\n",
    "plt.xlabel(\"x Position (px)\")\n",
    "plt.ylabel(\"y Position (px)\")\n",
    "plt.title(\"16deg AoA Airfoil\")\n",
    "plt.show()"
   ]
  },
  {
   "cell_type": "markdown",
   "metadata": {},
   "source": [
    "# Part 6"
   ]
  },
  {
   "cell_type": "markdown",
   "metadata": {},
   "source": [
    "$$ C_{d_o} = \\frac{1}{\\frac{1}{2} \\rho {U_{atm}^2}} \\Sigma \\left[ \\frac{\\rho (U_{atm}^2 - U_{downstream}^2)}{g} \\right]$$"
   ]
  },
  {
   "cell_type": "code",
   "execution_count": 2,
   "metadata": {},
   "outputs": [],
   "source": [
    "# Computing drag for each case\n",
    "\n",
    "import pandas as pd\n",
    "import numpy as np\n",
    "\n",
    "# Constants\n",
    "rho = 997 #kg/m^3\n",
    "mu = 1.002E-3 #Ns/m^2\n"
   ]
  },
  {
   "cell_type": "code",
   "execution_count": 16,
   "metadata": {},
   "outputs": [],
   "source": [
    "# Importing average data \n",
    "airfoil_0_raw = pd.read_csv('Summary Data\\Average_Data Airfoil 0 AoA.csv')\n",
    "airfoil_16_raw = pd.read_csv('Summary Data\\Average_Data Airfoil AoA.csv')\n",
    "cylinder_raw = pd.read_csv('Summary Data\\Average_Data Cylinder.csv')\n",
    "freestream_raw = pd.read_csv('Summary Data\\Average_Data Free Stream.csv')\n",
    "\n",
    "# Filtering data for only max x value\n",
    "airfoil_0 = airfoil_0_raw[airfoil_0_raw['x'] == 632]\n",
    "airfoil_16 = airfoil_16_raw[airfoil_16_raw['x'] == 632]\n",
    "cylinder = cylinder_raw[cylinder_raw['x'] == 632]\n",
    "freestream = freestream_raw[freestream_raw['x'] == 632]"
   ]
  },
  {
   "cell_type": "code",
   "execution_count": 23,
   "metadata": {},
   "outputs": [],
   "source": [
    "# Joining each test case to the freestream data\n",
    "Cds = []\n",
    "for case in [airfoil_0, airfoil_16, cylinder]:\n",
    "    joined = pd.merge(freestream, case, left_index = True, right_index = True, how='outer') # Join test case to freestream data\n",
    "    joined['Cd'] = (1 / (.5 * rho * (joined['u_x']*.001)**2)) * ((rho / 9.81) * ((joined['u_x']*.001)**2 - (joined['u_y']*.001)**2)) # Compute drag coefficient at each Y position at max X\n",
    "    Cd = joined['Cd'].sum() # Total drag coefficient\n",
    "    Cds.append(Cd)"
   ]
  },
  {
   "cell_type": "code",
   "execution_count": 25,
   "metadata": {},
   "outputs": [
    {
     "name": "stdout",
     "output_type": "stream",
     "text": [
      "[2.0037100858343124, 3.3694325880223737, 1.8800461501449182]\n"
     ]
    }
   ],
   "source": [
    "print(Cds)"
   ]
  }
 ],
 "metadata": {
  "kernelspec": {
   "display_name": "myenv",
   "language": "python",
   "name": "myenv"
  },
  "language_info": {
   "codemirror_mode": {
    "name": "ipython",
    "version": 3
   },
   "file_extension": ".py",
   "mimetype": "text/x-python",
   "name": "python",
   "nbconvert_exporter": "python",
   "pygments_lexer": "ipython3",
   "version": "3.9.7"
  }
 },
 "nbformat": 4,
 "nbformat_minor": 2
}
