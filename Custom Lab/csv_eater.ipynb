{
 "cells": [
  {
   "cell_type": "markdown",
   "metadata": {},
   "source": [
    "# **Custom Lab Experience**"
   ]
  },
  {
   "cell_type": "markdown",
   "metadata": {},
   "source": [
    "## Imports"
   ]
  },
  {
   "cell_type": "code",
   "execution_count": null,
   "metadata": {},
   "outputs": [],
   "source": [
    "# Imports\n",
    "\n",
    "import glob\n",
    "import pandas as pd\n",
    "import os\n",
    "import numpy as np\n",
    "import matplotlib.pyplot as plt\n",
    "import re as Read"
   ]
  },
  {
   "cell_type": "markdown",
   "metadata": {},
   "source": [
    "## Raw Data"
   ]
  },
  {
   "cell_type": "code",
   "execution_count": null,
   "metadata": {},
   "outputs": [],
   "source": [
    "# Import CSVs\n",
    "\n",
    "raw_data = {}\n",
    "\n",
    "# Pulls AoA out of file name regardless of how it was named\n",
    "def extract_number(text):\n",
    "    match = Read.search(r'\\d+', text)\n",
    "    if match:\n",
    "        return int(match.group())\n",
    "\n",
    "# Saves every DF in the raw_data dictionary by Reynolds --> Report --> AoA\n",
    "for re in ['250k', '320k', '500k', '750k']:\n",
    "    directory = 'Reports ' + re\n",
    "    raw_data[f'{re}'] = {}\n",
    "    for report in ['Drag', 'Drag Coefficient', 'Lift', 'Lift Coefficient', 'LoD', 'Residuals']:\n",
    "        raw_data[f'{re}'][f'{report}'] = {}\n",
    "        for file in glob.glob(os.path.join(f'{directory}\\{report}', '*.csv')):\n",
    "            data = pd.read_csv(file)\n",
    "\n",
    "            # Pull AoA\n",
    "            split = file.split()\n",
    "            for s in split:\n",
    "                if (s[0].isnumeric()) and ('k' not in s):\n",
    "                    num = extract_number(s)\n",
    "\n",
    "            raw_data[f'{re}'][f'{report}'][f'{num}'] = data"
   ]
  },
  {
   "cell_type": "markdown",
   "metadata": {},
   "source": [
    "## Composite Data"
   ]
  },
  {
   "cell_type": "code",
   "execution_count": null,
   "metadata": {},
   "outputs": [],
   "source": [
    "# Composite Data\n",
    "\n",
    "result_dataframes = {}\n",
    "\n",
    "# Iterate through the raw_data dictionary\n",
    "for re_value, re_data in raw_data.items():\n",
    "    for report, report_data in re_data.items():\n",
    "        # Initialize lists for nums and vals\n",
    "        nums = []\n",
    "        vals = []\n",
    "        \n",
    "        for num, data in report_data.items():\n",
    "            # Extract the final iteration of each AoA case\n",
    "            last_row = data.iloc[-1, 1]\n",
    "            vals.append(last_row)\n",
    "            nums.append(num)\n",
    "        \n",
    "        # Composite DF\n",
    "        df_name = f'{re_value} {report}'\n",
    "        result_df = pd.DataFrame({'Value': vals}, index=nums)\n",
    "                # Convert the index to numeric and sort\n",
    "        result_df.index = pd.to_numeric(result_df.index)\n",
    "        result_df.sort_index(inplace=True)\n",
    "        \n",
    "        # Store all DFs in central location\n",
    "        if df_name not in result_dataframes:\n",
    "            result_dataframes[df_name] = result_df\n",
    "        else:\n",
    "            result_dataframes[df_name] = result_dataframes[df_name].append(result_df)"
   ]
  },
  {
   "cell_type": "markdown",
   "metadata": {},
   "source": [
    "## Plotting"
   ]
  },
  {
   "cell_type": "code",
   "execution_count": null,
   "metadata": {},
   "outputs": [],
   "source": [
    "# Individual Plots\n",
    "\n",
    "for df_name, df in result_dataframes.items():\n",
    "    # Determine the y-axis label based on the report type\n",
    "    if 'Drag' in df_name:\n",
    "        if 'Coefficient' in df_name:\n",
    "            y_label = 'Drag Coefficient'\n",
    "        else:\n",
    "            y_label = 'Drag (N)'\n",
    "    elif 'Lift' in df_name:\n",
    "        if 'Coefficient' in df_name:\n",
    "            y_label = 'Lift Coefficient'\n",
    "        else:\n",
    "            y_label = 'Lift (N)'\n",
    "    else:\n",
    "        y_label = df_name.split()[-1]\n",
    "\n",
    "    # Plot each DataFrame\n",
    "    plt.figure(figsize=(10, 6))\n",
    "    plt.plot(df.index, df['Value'], marker='o', linestyle='-', label=df_name)\n",
    "    plt.title(f'{df_name} vs AoA')\n",
    "    plt.xlabel('AoA (Deg)')\n",
    "    plt.ylabel(y_label)\n",
    "    plt.grid(True)\n",
    "\n",
    "    # Save the plot without displaying it\n",
    "    plt.savefig(f'Plots/Individual/{df_name}_vs_AoA.png', bbox_inches='tight')  # Use bbox_inches to ensure tight layout\n",
    "\n",
    "    # Close the current figure to avoid potential conflicts with future plots\n",
    "    plt.close()\n",
    "\n",
    "\n"
   ]
  },
  {
   "cell_type": "code",
   "execution_count": null,
   "metadata": {},
   "outputs": [],
   "source": [
    "# Shared Plots\n",
    "\n",
    "# Create a dictionary to store DataFrames by plot type\n",
    "plot_type_dataframes = {}\n",
    "\n",
    "# Iterate through the result_dataframes dictionary\n",
    "for df_name, df in result_dataframes.items():\n",
    "    # Extract the plot type from the DataFrame name\n",
    "    plot_type = ' '.join(df_name.split()[1:])\n",
    "\n",
    "    # Store DataFrames by plot type\n",
    "    if plot_type not in plot_type_dataframes:\n",
    "        plot_type_dataframes[plot_type] = [(df, df_name.split()[0])]\n",
    "    else:\n",
    "        plot_type_dataframes[plot_type].append((df, df_name.split()[0]))\n",
    "\n",
    "# Create separate plots for each plot type\n",
    "for plot_type, dfs in plot_type_dataframes.items():\n",
    "    plt.figure(figsize=(10, 6))\n",
    "    for df, label in dfs:\n",
    "        plt.plot(df.index, df['Value'], marker='o', linestyle='-', label=label)  # Use label for legend\n",
    "\n",
    "    plt.title(f'{plot_type} vs Re')\n",
    "    plt.xlabel('AoA (Deg)')\n",
    "    \n",
    "    if plot_type == 'Lift' or plot_type == 'Drag':\n",
    "        plt.ylabel(f'{plot_type} (N)')\n",
    "    else:\n",
    "        plt.ylabel(plot_type)\n",
    "\n",
    "    plt.legend()\n",
    "    plt.grid(True)\n",
    "    \n",
    "    # Save the plot without displaying it\n",
    "    plt.savefig(f'Plots/Shared/{plot_type}_vs_Re.png', bbox_inches='tight')  # Use bbox_inches to ensure tight layout\n",
    "\n",
    "    # Close the current figure to avoid potential conflicts with future plots\n",
    "    plt.close()\n"
   ]
  },
  {
   "cell_type": "markdown",
   "metadata": {},
   "source": [
    "## Old Versions"
   ]
  },
  {
   "cell_type": "code",
   "execution_count": null,
   "metadata": {},
   "outputs": [],
   "source": [
    "dragcsvdir = 'C:\\\\Users\\\\Harrison\\\\OneDrive - University of Cincinnati\\\\Year 5\\\\Aero Lab\\\\Lab Work\\\\Custom Lab\\\\320k Reynolds - Stoelting\\\\Reports\\\\Drag'\n",
    "Cdcsvdir = 'C:\\\\Users\\\\Harrison\\\\OneDrive - University of Cincinnati\\\\Year 5\\\\Aero Lab\\\\Lab Work\\\\Custom Lab\\\\320k Reynolds - Stoelting\\\\Reports\\\\Drag Coefficient'\n",
    "liftcsvdir = 'C:\\\\Users\\\\Harrison\\\\OneDrive - University of Cincinnati\\\\Year 5\\\\Aero Lab\\\\Lab Work\\\\Custom Lab\\\\320k Reynolds - Stoelting\\\\Reports\\\\Lift'\n",
    "Clcsvdir = 'C:\\\\Users\\\\Harrison\\\\OneDrive - University of Cincinnati\\\\Year 5\\\\Aero Lab\\\\Lab Work\\\\Custom Lab\\\\320k Reynolds - Stoelting\\\\Reports\\\\Lift Coefficient'\n",
    "LoDcsvdir = 'C:\\\\Users\\\\Harrison\\\\OneDrive - University of Cincinnati\\\\Year 5\\\\Aero Lab\\\\Lab Work\\\\Custom Lab\\\\320k Reynolds - Stoelting\\\\Reports\\\\LoD'\n",
    "\n",
    "# get all the csv files in that directory (assuming they have the extension .csv)\n",
    "dragcsvfiles = glob.glob(os.path.join(dragcsvdir, '*.csv'))\n",
    "Cdcsvfiles = glob.glob(os.path.join(Cdcsvdir, '*.csv'))\n",
    "liftcsvfiles = glob.glob(os.path.join(liftcsvdir, '*.csv'))\n",
    "Clcsvfiles = glob.glob(os.path.join(Clcsvdir, '*.csv'))\n",
    "LoDcsvfiles = glob.glob(os.path.join(LoDcsvdir, '*.csv'))\n",
    "\n",
    "# loop through the files and read them in with pandas\n",
    "dragdataframes = []  # a list to hold all the individual pandas DataFrames\n",
    "Cddataframes = []\n",
    "Liftdataframes = []\n",
    "Cldataframes = []\n",
    "LoDdataframes = []\n",
    "\n",
    "#using individual for loops so it is easier to comment out whichever set of files is not needed\n",
    "for csvfile in dragcsvfiles:\n",
    "    df = pd.read_csv(csvfile)\n",
    "    dragdataframes.append(df)\n",
    "\n",
    "print(\"Drag Complete\")\n",
    "\n",
    "for csvfile in Cdcsvfiles:\n",
    "    df = pd.read_csv(csvfile)\n",
    "    Cddataframes.append(df)\n",
    "\n",
    "print(\"Cd Complete\")\n",
    "\n",
    "for csvfile in liftcsvfiles:\n",
    "    df = pd.read_csv(csvfile)\n",
    "    Liftdataframes.append(df)\n",
    "\n",
    "print(\"Lift Complete\")\n",
    "\n",
    "for csvfile in Clcsvfiles:\n",
    "    df = pd.read_csv(csvfile)\n",
    "    Cldataframes.append(df)\n",
    "\n",
    "print(\"Cl Complete\")\n",
    "\n",
    "for csvfile in LoDcsvfiles:\n",
    "    df = pd.read_csv(csvfile)\n",
    "    LoDdataframes.append(df)\n",
    "\n",
    "print(\"LoD Complete\")"
   ]
  },
  {
   "cell_type": "markdown",
   "metadata": {},
   "source": [
    "### Breaking into arrays with relevant data"
   ]
  },
  {
   "cell_type": "code",
   "execution_count": null,
   "metadata": {},
   "outputs": [],
   "source": [
    "#Creating arrays that have number of rows = # of files and columns = # of rows in csv\n",
    "Drags = np.zeros((len(dragdataframes), len(dragdataframes[0])))\n",
    "CDs = np.zeros((len(Cddataframes), len(Cddataframes[0])))\n",
    "Lifts = np.zeros((len(Liftdataframes), len(Liftdataframes[0])))\n",
    "CLs = np.zeros((len(Cldataframes), len(Cldataframes[0])))\n",
    "LoDs = np.zeros((len(LoDdataframes), len(LoDdataframes[0])))\n",
    "\n",
    "#populating the arrays with the useful data\n",
    "#Drag\n",
    "for i in range(len(dragdataframes)):\n",
    "    temp_frame = dragdataframes[i]\n",
    "    for j in range(len(dragdataframes[0])):\n",
    "        Drags[i,j] = temp_frame.iloc[j,1]\n",
    "\n",
    "#CD\n",
    "for i in range(len(Cddataframes)):\n",
    "    temp_frame = Cddataframes[i]\n",
    "    for j in range(len(Cddataframes[0])):\n",
    "        CDs[i,j] = temp_frame.iloc[j,1]\n",
    "\n",
    "#Lift\n",
    "for i in range(len(Liftdataframes)):\n",
    "    temp_frame = Liftdataframes[i]\n",
    "    for j in range(len(Liftdataframes[0])):\n",
    "        Lifts[i,j] = temp_frame.iloc[j,1]\n",
    "\n",
    "#CL\n",
    "for i in range(len(Cldataframes)):\n",
    "    temp_frame = Cldataframes[i]\n",
    "    for j in range(len(Cldataframes[0])):\n",
    "        CLs[i,j] = temp_frame.iloc[j,1]\n",
    "\n",
    "#LoD\n",
    "for i in range(len(LoDdataframes)):\n",
    "    temp_frame = LoDdataframes[i]\n",
    "    for j in range(len(LoDdataframes[0])):\n",
    "        LoDs[i,j] = temp_frame.iloc[j,1]\n"
   ]
  },
  {
   "cell_type": "markdown",
   "metadata": {},
   "source": [
    "### Averaging the values after the initial start (after the 700th iteration)"
   ]
  },
  {
   "cell_type": "code",
   "execution_count": null,
   "metadata": {},
   "outputs": [],
   "source": [
    "#creating a pandas frame to store the averaged values\n",
    "test_num = len(dragdataframes) #number of tests ran based off the number of files\n",
    "init_data = {'Drag (N)': [0], 'C_D': [0], 'Lift (N)': [0], \"C_L\": [0], \"L/D\": [0]}\n",
    "avg_df = pd.DataFrame(init_data)\n",
    "\n",
    "#Finding the average for each AoA (row) of the column\n",
    "for j in range(len(avg_df)):\n",
    "    for i in range(test_num):\n",
    "        avg = np.average(Drags[i,700:])\n",
    "        avg_df.at[i, \"Drag (N)\"] = avg\n",
    "\n",
    "        avg = np.average(CDs[i,700:])\n",
    "        avg_df.at[i, \"C_D\"] = avg\n",
    "\n",
    "        avg = np.average(Lifts[i,700:])\n",
    "        avg_df.at[i, \"Lift (N)\"] = avg\n",
    "\n",
    "        avg = np.average(CLs[i,700:])\n",
    "        avg_df.at[i, \"C_L\"] = avg\n",
    "\n",
    "        avg = np.average(LoDs[i,700:])\n",
    "        avg_df.at[i, \"L/D\"] = avg\n",
    "\n",
    "avg_df"
   ]
  },
  {
   "cell_type": "code",
   "execution_count": null,
   "metadata": {},
   "outputs": [],
   "source": []
  }
 ],
 "metadata": {
  "kernelspec": {
   "display_name": "myenv",
   "language": "python",
   "name": "myenv"
  },
  "language_info": {
   "codemirror_mode": {
    "name": "ipython",
    "version": 3
   },
   "file_extension": ".py",
   "mimetype": "text/x-python",
   "name": "python",
   "nbconvert_exporter": "python",
   "pygments_lexer": "ipython3",
   "version": "3.9.7"
  }
 },
 "nbformat": 4,
 "nbformat_minor": 2
}
