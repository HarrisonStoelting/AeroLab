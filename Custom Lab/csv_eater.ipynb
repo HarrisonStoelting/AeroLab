{
 "cells": [
  {
   "cell_type": "code",
   "execution_count": 37,
   "metadata": {},
   "outputs": [],
   "source": [
    "import glob\n",
    "import pandas as pd\n",
    "import os\n",
    "import numpy as np\n",
    "import matplotlib.pyplot as plt"
   ]
  },
  {
   "cell_type": "markdown",
   "metadata": {},
   "source": [
    "# CSV IMPORTER"
   ]
  },
  {
   "cell_type": "code",
   "execution_count": 6,
   "metadata": {},
   "outputs": [
    {
     "name": "stdout",
     "output_type": "stream",
     "text": [
      "Drag Complete\n",
      "Cd Complete\n",
      "Lift Complete\n",
      "Cl Complete\n",
      "LoD Complete\n"
     ]
    }
   ],
   "source": [
    "dragcsvdir = 'C:\\\\Users\\\\Harrison\\\\OneDrive - University of Cincinnati\\\\Year 5\\\\Aero Lab\\\\Lab Work\\\\Custom Lab\\\\320k Reynolds - Stoelting\\\\Reports\\\\Drag'\n",
    "Cdcsvdir = 'C:\\\\Users\\\\Harrison\\\\OneDrive - University of Cincinnati\\\\Year 5\\\\Aero Lab\\\\Lab Work\\\\Custom Lab\\\\320k Reynolds - Stoelting\\\\Reports\\\\Drag Coefficient'\n",
    "liftcsvdir = 'C:\\\\Users\\\\Harrison\\\\OneDrive - University of Cincinnati\\\\Year 5\\\\Aero Lab\\\\Lab Work\\\\Custom Lab\\\\320k Reynolds - Stoelting\\\\Reports\\\\Lift'\n",
    "Clcsvdir = 'C:\\\\Users\\\\Harrison\\\\OneDrive - University of Cincinnati\\\\Year 5\\\\Aero Lab\\\\Lab Work\\\\Custom Lab\\\\320k Reynolds - Stoelting\\\\Reports\\\\Lift Coefficient'\n",
    "LoDcsvdir = 'C:\\\\Users\\\\Harrison\\\\OneDrive - University of Cincinnati\\\\Year 5\\\\Aero Lab\\\\Lab Work\\\\Custom Lab\\\\320k Reynolds - Stoelting\\\\Reports\\\\LoD'\n",
    "\n",
    "# get all the csv files in that directory (assuming they have the extension .csv)\n",
    "dragcsvfiles = glob.glob(os.path.join(dragcsvdir, '*.csv'))\n",
    "Cdcsvfiles = glob.glob(os.path.join(Cdcsvdir, '*.csv'))\n",
    "liftcsvfiles = glob.glob(os.path.join(liftcsvdir, '*.csv'))\n",
    "Clcsvfiles = glob.glob(os.path.join(Clcsvdir, '*.csv'))\n",
    "LoDcsvfiles = glob.glob(os.path.join(LoDcsvdir, '*.csv'))\n",
    "\n",
    "# loop through the files and read them in with pandas\n",
    "dragdataframes = []  # a list to hold all the individual pandas DataFrames\n",
    "Cddataframes = []\n",
    "Liftdataframes = []\n",
    "Cldataframes = []\n",
    "LoDdataframes = []\n",
    "\n",
    "#using individual for loops so it is easier to comment out whichever set of files is not needed\n",
    "for csvfile in dragcsvfiles:\n",
    "    df = pd.read_csv(csvfile)\n",
    "    dragdataframes.append(df)\n",
    "\n",
    "print(\"Drag Complete\")\n",
    "\n",
    "for csvfile in Cdcsvfiles:\n",
    "    df = pd.read_csv(csvfile)\n",
    "    Cddataframes.append(df)\n",
    "\n",
    "print(\"Cd Complete\")\n",
    "\n",
    "for csvfile in liftcsvfiles:\n",
    "    df = pd.read_csv(csvfile)\n",
    "    Liftdataframes.append(df)\n",
    "\n",
    "print(\"Lift Complete\")\n",
    "\n",
    "for csvfile in Clcsvfiles:\n",
    "    df = pd.read_csv(csvfile)\n",
    "    Cldataframes.append(df)\n",
    "\n",
    "print(\"Cl Complete\")\n",
    "\n",
    "for csvfile in LoDcsvfiles:\n",
    "    df = pd.read_csv(csvfile)\n",
    "    LoDdataframes.append(df)\n",
    "\n",
    "print(\"LoD Complete\")"
   ]
  },
  {
   "cell_type": "markdown",
   "metadata": {},
   "source": [
    "## Breaking into arrays with relevant data"
   ]
  },
  {
   "cell_type": "code",
   "execution_count": 19,
   "metadata": {},
   "outputs": [],
   "source": [
    "#Creating arrays that have number of rows = # of files and columns = # of rows in csv\n",
    "Drags = np.zeros((len(dragdataframes), len(dragdataframes[0])))\n",
    "CDs = np.zeros((len(Cddataframes), len(Cddataframes[0])))\n",
    "Lifts = np.zeros((len(Liftdataframes), len(Liftdataframes[0])))\n",
    "CLs = np.zeros((len(Cldataframes), len(Cldataframes[0])))\n",
    "LoDs = np.zeros((len(LoDdataframes), len(LoDdataframes[0])))\n",
    "\n",
    "#populating the arrays with the useful data\n",
    "#Drag\n",
    "for i in range(len(dragdataframes)):\n",
    "    temp_frame = dragdataframes[i]\n",
    "    for j in range(len(dragdataframes[0])):\n",
    "        Drags[i,j] = temp_frame.iloc[j,1]\n",
    "\n",
    "#CD\n",
    "for i in range(len(Cddataframes)):\n",
    "    temp_frame = Cddataframes[i]\n",
    "    for j in range(len(Cddataframes[0])):\n",
    "        CDs[i,j] = temp_frame.iloc[j,1]\n",
    "\n",
    "#Lift\n",
    "for i in range(len(Liftdataframes)):\n",
    "    temp_frame = Liftdataframes[i]\n",
    "    for j in range(len(Liftdataframes[0])):\n",
    "        Lifts[i,j] = temp_frame.iloc[j,1]\n",
    "\n",
    "#CL\n",
    "for i in range(len(Cldataframes)):\n",
    "    temp_frame = Cldataframes[i]\n",
    "    for j in range(len(Cldataframes[0])):\n",
    "        CLs[i,j] = temp_frame.iloc[j,1]\n",
    "\n",
    "#LoD\n",
    "for i in range(len(LoDdataframes)):\n",
    "    temp_frame = LoDdataframes[i]\n",
    "    for j in range(len(LoDdataframes[0])):\n",
    "        LoDs[i,j] = temp_frame.iloc[j,1]\n"
   ]
  },
  {
   "cell_type": "markdown",
   "metadata": {},
   "source": [
    "## Averaging the values after the initial start (after the 700th iteration)"
   ]
  },
  {
   "cell_type": "code",
   "execution_count": 36,
   "metadata": {},
   "outputs": [
    {
     "name": "stdout",
     "output_type": "stream",
     "text": [
      "     Drag (N)       C_D    Lift (N)       C_L        L/D\n",
      "0    4.874104  0.013008  183.637346  0.490085  37.676124\n",
      "1   12.077406  0.032232  593.078861  1.582788  49.106477\n",
      "2   13.340702  0.035603  624.682902  1.667132  46.825342\n",
      "3   14.913393  0.039800  653.123685  1.743034  43.794447\n",
      "4   16.765502  0.044743  676.155324  1.804500  40.330186\n",
      "5   19.027601  0.050780  693.531036  1.850871  36.448820\n",
      "6   21.890329  0.058420  703.030204  1.876222  32.118256\n",
      "7   26.500245  0.070723  717.279686  1.914232  27.077741\n",
      "8    5.046249  0.013467  228.141527  0.608856  45.210124\n",
      "9    5.539145  0.014783  272.285303  0.726666  49.156561\n",
      "10   5.846609  0.015603  316.036568  0.843427  54.054675\n",
      "11   6.569646  0.017533  359.053771  0.958230  54.653443\n",
      "12   7.065230  0.018855  401.291034  1.070951  56.798013\n",
      "13   8.030689  0.021432  442.607253  1.181215  55.114483\n",
      "14   8.711946  0.023250  482.843595  1.288596  55.423165\n",
      "15   9.547820  0.022722  521.633864  1.392118  54.633816\n",
      "16  10.418337  0.027804  558.623600  1.490835  53.619267\n"
     ]
    }
   ],
   "source": [
    "#creating a pandas frame to store the averaged values\n",
    "test_num = len(dragdataframes) #number of tests ran based off the number of files\n",
    "init_data = {'Drag (N)': [0], 'C_D': [0], 'Lift (N)': [0], \"C_L\": [0], \"L/D\": [0]}\n",
    "avg_df = pd.DataFrame(init_data)\n",
    "\n",
    "#Finding the average for each AoA (row) of the column\n",
    "for j in range(len(avg_df)):\n",
    "    for i in range(test_num):\n",
    "        avg = np.average(Drags[i,700:])\n",
    "        avg_df.at[i, \"Drag (N)\"] = avg\n",
    "\n",
    "        avg = np.average(CDs[i,700:])\n",
    "        avg_df.at[i, \"C_D\"] = avg\n",
    "\n",
    "        avg = np.average(Lifts[i,700:])\n",
    "        avg_df.at[i, \"Lift (N)\"] = avg\n",
    "\n",
    "        avg = np.average(CLs[i,700:])\n",
    "        avg_df.at[i, \"C_L\"] = avg\n",
    "\n",
    "        avg = np.average(LoDs[i,700:])\n",
    "        avg_df.at[i, \"L/D\"] = avg\n",
    "\n",
    "print(avg_df)"
   ]
  },
  {
   "cell_type": "code",
   "execution_count": 49,
   "metadata": {},
   "outputs": [
    {
     "data": {
      "text/plain": [
       "<AxesSubplot:xlabel='C_D'>"
      ]
     },
     "execution_count": 49,
     "metadata": {},
     "output_type": "execute_result"
    },
    {
     "data": {
      "image/png": "[encoded data removed]",
      "text/plain": [
       "<Figure size 432x288 with 1 Axes>"
      ]
     },
     "metadata": {
      "needs_background": "light"
     },
     "output_type": "display_data"
    }
   ],
   "source": []
  }
 ],
 "metadata": {
  "kernelspec": {
   "display_name": "base",
   "language": "python",
   "name": "python3"
  },
  "language_info": {
   "codemirror_mode": {
    "name": "ipython",
    "version": 3
   },
   "file_extension": ".py",
   "mimetype": "text/x-python",
   "name": "python",
   "nbconvert_exporter": "python",
   "pygments_lexer": "ipython3",
   "version": "3.9.7"
  }
 },
 "nbformat": 4,
 "nbformat_minor": 2
}
