{
 "cells": [
  {
   "cell_type": "markdown",
   "metadata": {},
   "source": [
    "# **Lab 1**"
   ]
  },
  {
   "cell_type": "markdown",
   "metadata": {},
   "source": [
    "## **Data Extraction**"
   ]
  },
  {
   "cell_type": "code",
   "execution_count": 120,
   "metadata": {},
   "outputs": [],
   "source": [
    "# Setup\n",
    "import csv\n",
    "import pandas as pd\n",
    "import numpy as np\n",
    "import matplotlib.pyplot as plt\n",
    "import math\n",
    "import warnings \n",
    "warnings.simplefilter(action = 'ignore')"
   ]
  },
  {
   "cell_type": "code",
   "execution_count": 121,
   "metadata": {},
   "outputs": [],
   "source": [
    "# Transform .dat file to .csv\n",
    "for file in [\"NACA0012_25Hz_70pitch\", \"NACA4412_25Hz_70pitch\"]:\n",
    "    datContent = []\n",
    "    for i in open(file + \".dat\").readlines():\n",
    "        if str(i[0]) in [\"0\", \"1\", \"2\", \"3\", \"4\", \"5\", \"6\", \"7\", \"8\", \"9\", \"-\"]:\n",
    "            datContent.append(i.strip().split())\n",
    "\n",
    "    with open(file + \".csv\", \"w\") as f:\n",
    "        writer = csv.writer(f)\n",
    "        writer.writerows(datContent)"
   ]
  },
  {
   "cell_type": "code",
   "execution_count": 122,
   "metadata": {},
   "outputs": [],
   "source": [
    "# Transform .csv to DataFrames\n",
    "\n",
    "naca0012_data = {}\n",
    "naca4412_data = {}\n",
    "\n",
    "for file in [\"NACA0012_25Hz_70pitch\", \"NACA4412_25Hz_70pitch\"]:\n",
    "\n",
    "    if file == \"NACA0012_25Hz_70pitch\":\n",
    "        storage = naca0012_data\n",
    "    elif file == \"NACA4412_25Hz_70pitch\":\n",
    "        storage = naca4412_data\n",
    "\n",
    "    df_composite = pd.read_csv(file + \".csv\", index_col = 0, header = None, names = [\"Dyn. Pressure (In. H20)\", \"Surf. Pressure (In. H20)\"])\n",
    "\n",
    "    # Break each airfoil's data into data for each AoA\n",
    "    chunk_size = 19\n",
    "    num_chunks = int(len(df_composite.index) / 19)\n",
    "\n",
    "    for i in range(num_chunks):\n",
    "        chunk_old = df_composite.iloc[chunk_size * i:chunk_size * (i+1)]\n",
    "        chunk = chunk_old.iloc[1:, :]\n",
    "        chunk.name = int(chunk_old.index[0])\n",
    "\n",
    "        storage[chunk.name] = chunk"
   ]
  },
  {
   "cell_type": "code",
   "execution_count": 123,
   "metadata": {},
   "outputs": [],
   "source": [
    "# Correcting pressure tap 17 for NACA4412\n",
    "\n",
    "port_17 = pd.DataFrame(data = {'AoA': [0, 4, 6, 8, 10, 12, 14], 'Dynamic': [2.557, 2.614, 2.626, 2.644, 2.655, 2.654, 2.653], 'Static': [-0.193, 0.948, 1.117, 1.337, 1.451, 1.526, 1.580]})\n",
    "i = 0\n",
    "for item in naca4412_data:\n",
    "    tbl = naca4412_data[item]\n",
    "    tbl.loc[17][0] = port_17.iloc[i][1]\n",
    "    tbl.loc[17][1] = port_17.iloc[i][2]\n",
    "    naca4412_data[item] = tbl\n",
    "    i += 1"
   ]
  },
  {
   "cell_type": "code",
   "execution_count": 124,
   "metadata": {},
   "outputs": [],
   "source": [
    "# Plotting airfoils\n",
    "\n",
    "#https://en.wikipedia.org/wiki/NACA_airfoil#Equation_for_a_cambered_4-digit_NACA_airfoil\n",
    "def camber_line( x, m, p, c ):\n",
    "    return np.where((x>=0)&(x<=(c*p)),\n",
    "                    m * (x / np.power(p,2)) * (2.0 * p - (x / c)),\n",
    "                    m * ((c - x) / np.power(1-p,2)) * (1.0 + (x / c) - 2.0 * p ))\n",
    "\n",
    "def dyc_over_dx( x, m, p, c ):\n",
    "    return np.where((x>=0)&(x<=(c*p)),\n",
    "                    ((2.0 * m) / np.power(p,2)) * (p - x / c),\n",
    "                    ((2.0 * m ) / np.power(1-p,2)) * (p - x / c ))\n",
    "\n",
    "def thickness( x, t, c ):\n",
    "    term1 =  0.2969 * (np.sqrt(x/c))\n",
    "    term2 = -0.1260 * (x/c)\n",
    "    term3 = -0.3516 * np.power(x/c,2)\n",
    "    term4 =  0.2843 * np.power(x/c,3)\n",
    "    term5 = -0.1015 * np.power(x/c,4)\n",
    "    return 5 * t * c * (term1 + term2 + term3 + term4 + term5)\n",
    "\n",
    "def naca4(x, m, p, t, c=1):\n",
    "    dyc_dx = dyc_over_dx(x, m, p, c)\n",
    "    th = np.arctan(dyc_dx)\n",
    "    yt = thickness(x, t, c)\n",
    "    yc = camber_line(x, m, p, c)  \n",
    "    return ((x - yt*np.sin(th), yc + yt*np.cos(th)), \n",
    "            (x + yt*np.sin(th), yc - yt*np.cos(th)))"
   ]
  },
  {
   "cell_type": "code",
   "execution_count": 125,
   "metadata": {},
   "outputs": [
    {
     "data": {
      "text/plain": [
       "(-0.05, 1.05)"
      ]
     },
     "execution_count": 125,
     "metadata": {},
     "output_type": "execute_result"
    },
    {
     "data": {
      "image/png": "[encoded data removed]",
      "text/plain": [
       "<Figure size 432x288 with 1 Axes>"
      ]
     },
     "metadata": {
      "needs_background": "light"
     },
     "output_type": "display_data"
    }
   ],
   "source": [
    "# NACA 4412\n",
    "x = np.linspace(0,1,200)\n",
    "for item in naca4(x, .04, .4, .12, 1):\n",
    "    plt.plot(item[0], item[1], 'b')\n",
    "\n",
    "plt.axis('equal')\n",
    "plt.xlim((-0.05, 1.05))"
   ]
  },
  {
   "cell_type": "code",
   "execution_count": 126,
   "metadata": {},
   "outputs": [
    {
     "data": {
      "text/plain": [
       "(-0.05, 1.05)"
      ]
     },
     "execution_count": 126,
     "metadata": {},
     "output_type": "execute_result"
    },
    {
     "data": {
      "image/png": "[encoded data removed]",
      "text/plain": [
       "<Figure size 432x288 with 1 Axes>"
      ]
     },
     "metadata": {
      "needs_background": "light"
     },
     "output_type": "display_data"
    }
   ],
   "source": [
    "# NACA 0012\n",
    "x = np.linspace(0,1,200)\n",
    "for item in naca4(x, 0, 0.00001, .12, 1):\n",
    "    plt.plot(item[0], item[1], 'b')\n",
    "\n",
    "plt.axis('equal')\n",
    "plt.xlim((-0.05, 1.05))"
   ]
  },
  {
   "cell_type": "code",
   "execution_count": 127,
   "metadata": {},
   "outputs": [],
   "source": [
    "# Airfoil geometry\n",
    "\n",
    "naca0012_shape = pd.DataFrame(data = {\n",
    "    'Tap': [1, 2, 3, 4, 5, 6, 7, 8, 9, 10, 11, 12, 13, 14, 15, 16, 17, 18]\n",
    "})"
   ]
  },
  {
   "cell_type": "markdown",
   "metadata": {},
   "source": [
    "## **Task 1**"
   ]
  },
  {
   "cell_type": "code",
   "execution_count": 128,
   "metadata": {},
   "outputs": [],
   "source": [
    "# Calculating U, Re, Cp\n",
    "\n",
    "U_naca0012 = 33.3 # m/s\n",
    "U_naca4412 = 34.0 # m/s\n",
    "\n",
    "chord = .1524 # m [6 in]\n",
    "\n",
    "p_atm = 98700 # Pa [29.15 in Hg]\n",
    "T_atm = 300.93 # K [82 F, 27.78 C]\n",
    "rho = 1.14486 # kg/m3 [at given p_atm and t_atm]\n",
    "mu = 18.5 * 10**-6 # Pa*s\n",
    "\n",
    "re_naca0012 = rho * U_naca0012 * chord / mu\n",
    "re_naca4412 = rho * U_naca4412 * chord / mu\n",
    "\n",
    "for item in naca0012_data:\n",
    "    tbl = naca0012_data[item]\n",
    "    tbl[\"Cp\"] = ((pd.to_numeric(tbl[\"Surf. Pressure (In. H20)\"]) * 249.08) - p_atm) / (pd.to_numeric(tbl[\"Dyn. Pressure (In. H20)\"]) * 249.08)\n",
    "    tbl[\"U\"] = (2 * (pd.to_numeric(tbl[\"Dyn. Pressure (In. H20)\"]) * 249.08) / rho) ** .5\n",
    "    naca0012_data[item] = tbl\n",
    "\n",
    "for item in naca4412_data:\n",
    "    tbl = naca4412_data[item]\n",
    "    tbl[\"Cp\"] = ((pd.to_numeric(tbl[\"Surf. Pressure (In. H20)\"]) * 249.08) - p_atm) / (pd.to_numeric(tbl[\"Dyn. Pressure (In. H20)\"]) * 249.08)\n",
    "    tbl[\"U\"] = (2 * (pd.to_numeric(tbl[\"Dyn. Pressure (In. H20)\"]) * 249.08) / rho) ** .5\n",
    "    naca4412_data[item] = tbl"
   ]
  },
  {
   "cell_type": "code",
   "execution_count": 129,
   "metadata": {},
   "outputs": [
    {
     "data": {
      "text/html": [
       "<div>\n",
       "<style scoped>\n",
       "    .dataframe tbody tr th:only-of-type {\n",
       "        vertical-align: middle;\n",
       "    }\n",
       "\n",
       "    .dataframe tbody tr th {\n",
       "        vertical-align: top;\n",
       "    }\n",
       "\n",
       "    .dataframe thead th {\n",
       "        text-align: right;\n",
       "    }\n",
       "</style>\n",
       "<table border=\"1\" class=\"dataframe\">\n",
       "  <thead>\n",
       "    <tr style=\"text-align: right;\">\n",
       "      <th></th>\n",
       "      <th>Dyn. Pressure (In. H20)</th>\n",
       "      <th>Surf. Pressure (In. H20)</th>\n",
       "      <th>Cp</th>\n",
       "      <th>U</th>\n",
       "    </tr>\n",
       "  </thead>\n",
       "  <tbody>\n",
       "    <tr>\n",
       "      <th>1.0</th>\n",
       "      <td>2.505</td>\n",
       "      <td>1.390</td>\n",
       "      <td>-157.632028</td>\n",
       "      <td>33.015061</td>\n",
       "    </tr>\n",
       "    <tr>\n",
       "      <th>2.0</th>\n",
       "      <td>2.505</td>\n",
       "      <td>-1.056</td>\n",
       "      <td>-158.608475</td>\n",
       "      <td>33.015061</td>\n",
       "    </tr>\n",
       "    <tr>\n",
       "      <th>3.0</th>\n",
       "      <td>2.510</td>\n",
       "      <td>-0.967</td>\n",
       "      <td>-158.257064</td>\n",
       "      <td>33.047993</td>\n",
       "    </tr>\n",
       "    <tr>\n",
       "      <th>4.0</th>\n",
       "      <td>2.509</td>\n",
       "      <td>-0.878</td>\n",
       "      <td>-158.284667</td>\n",
       "      <td>33.041410</td>\n",
       "    </tr>\n",
       "    <tr>\n",
       "      <th>5.0</th>\n",
       "      <td>2.507</td>\n",
       "      <td>-0.822</td>\n",
       "      <td>-158.388604</td>\n",
       "      <td>33.028238</td>\n",
       "    </tr>\n",
       "    <tr>\n",
       "      <th>6.0</th>\n",
       "      <td>2.506</td>\n",
       "      <td>-0.771</td>\n",
       "      <td>-158.431457</td>\n",
       "      <td>33.021650</td>\n",
       "    </tr>\n",
       "    <tr>\n",
       "      <th>7.0</th>\n",
       "      <td>2.512</td>\n",
       "      <td>-0.713</td>\n",
       "      <td>-158.029948</td>\n",
       "      <td>33.061157</td>\n",
       "    </tr>\n",
       "    <tr>\n",
       "      <th>8.0</th>\n",
       "      <td>2.511</td>\n",
       "      <td>-0.638</td>\n",
       "      <td>-158.063015</td>\n",
       "      <td>33.054576</td>\n",
       "    </tr>\n",
       "    <tr>\n",
       "      <th>9.0</th>\n",
       "      <td>2.509</td>\n",
       "      <td>-0.573</td>\n",
       "      <td>-158.163105</td>\n",
       "      <td>33.041410</td>\n",
       "    </tr>\n",
       "    <tr>\n",
       "      <th>10.0</th>\n",
       "      <td>2.508</td>\n",
       "      <td>-0.510</td>\n",
       "      <td>-158.201049</td>\n",
       "      <td>33.034824</td>\n",
       "    </tr>\n",
       "    <tr>\n",
       "      <th>11.0</th>\n",
       "      <td>2.508</td>\n",
       "      <td>-0.451</td>\n",
       "      <td>-158.177524</td>\n",
       "      <td>33.034824</td>\n",
       "    </tr>\n",
       "    <tr>\n",
       "      <th>12.0</th>\n",
       "      <td>2.504</td>\n",
       "      <td>-0.401</td>\n",
       "      <td>-158.410236</td>\n",
       "      <td>33.008470</td>\n",
       "    </tr>\n",
       "    <tr>\n",
       "      <th>13.0</th>\n",
       "      <td>2.510</td>\n",
       "      <td>-0.319</td>\n",
       "      <td>-157.998897</td>\n",
       "      <td>33.047993</td>\n",
       "    </tr>\n",
       "    <tr>\n",
       "      <th>14.0</th>\n",
       "      <td>2.510</td>\n",
       "      <td>-0.203</td>\n",
       "      <td>-157.952681</td>\n",
       "      <td>33.047993</td>\n",
       "    </tr>\n",
       "    <tr>\n",
       "      <th>15.0</th>\n",
       "      <td>2.509</td>\n",
       "      <td>-0.126</td>\n",
       "      <td>-157.984946</td>\n",
       "      <td>33.041410</td>\n",
       "    </tr>\n",
       "    <tr>\n",
       "      <th>16.0</th>\n",
       "      <td>2.502</td>\n",
       "      <td>-0.065</td>\n",
       "      <td>-158.402570</td>\n",
       "      <td>32.995285</td>\n",
       "    </tr>\n",
       "    <tr>\n",
       "      <th>17.0</th>\n",
       "      <td>2.511</td>\n",
       "      <td>0.007</td>\n",
       "      <td>-157.806145</td>\n",
       "      <td>33.054576</td>\n",
       "    </tr>\n",
       "    <tr>\n",
       "      <th>18.0</th>\n",
       "      <td>2.508</td>\n",
       "      <td>0.099</td>\n",
       "      <td>-157.958226</td>\n",
       "      <td>33.034824</td>\n",
       "    </tr>\n",
       "  </tbody>\n",
       "</table>\n",
       "</div>"
      ],
      "text/plain": [
       "     Dyn. Pressure (In. H20) Surf. Pressure (In. H20)          Cp          U\n",
       "1.0                    2.505                    1.390 -157.632028  33.015061\n",
       "2.0                    2.505                   -1.056 -158.608475  33.015061\n",
       "3.0                    2.510                   -0.967 -158.257064  33.047993\n",
       "4.0                    2.509                   -0.878 -158.284667  33.041410\n",
       "5.0                    2.507                   -0.822 -158.388604  33.028238\n",
       "6.0                    2.506                   -0.771 -158.431457  33.021650\n",
       "7.0                    2.512                   -0.713 -158.029948  33.061157\n",
       "8.0                    2.511                   -0.638 -158.063015  33.054576\n",
       "9.0                    2.509                   -0.573 -158.163105  33.041410\n",
       "10.0                   2.508                   -0.510 -158.201049  33.034824\n",
       "11.0                   2.508                   -0.451 -158.177524  33.034824\n",
       "12.0                   2.504                   -0.401 -158.410236  33.008470\n",
       "13.0                   2.510                   -0.319 -157.998897  33.047993\n",
       "14.0                   2.510                   -0.203 -157.952681  33.047993\n",
       "15.0                   2.509                   -0.126 -157.984946  33.041410\n",
       "16.0                   2.502                   -0.065 -158.402570  32.995285\n",
       "17.0                   2.511                    0.007 -157.806145  33.054576\n",
       "18.0                   2.508                    0.099 -157.958226  33.034824"
      ]
     },
     "execution_count": 129,
     "metadata": {},
     "output_type": "execute_result"
    }
   ],
   "source": [
    "naca0012_data[0]"
   ]
  },
  {
   "cell_type": "markdown",
   "metadata": {},
   "source": [
    "## **Task 2**"
   ]
  },
  {
   "cell_type": "markdown",
   "metadata": {},
   "source": [
    "#### **2A**"
   ]
  },
  {
   "cell_type": "markdown",
   "metadata": {},
   "source": [
    "#### **2B**"
   ]
  }
 ],
 "metadata": {
  "kernelspec": {
   "display_name": "myenv",
   "language": "python",
   "name": "myenv"
  },
  "language_info": {
   "codemirror_mode": {
    "name": "ipython",
    "version": 3
   },
   "file_extension": ".py",
   "mimetype": "text/x-python",
   "name": "python",
   "nbconvert_exporter": "python",
   "pygments_lexer": "ipython3",
   "version": "3.9.7"
  },
  "orig_nbformat": 4
 },
 "nbformat": 4,
 "nbformat_minor": 2
}
