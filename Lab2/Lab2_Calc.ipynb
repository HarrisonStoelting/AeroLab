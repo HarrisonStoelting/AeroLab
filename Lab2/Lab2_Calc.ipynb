{
 "cells": [
  {
   "cell_type": "code",
   "execution_count": 9,
   "metadata": {},
   "outputs": [],
   "source": [
    "#imports\n",
    "import pandas as pd\n",
    "import numpy as np\n",
    "import matplotlib.pyplot as plt\n",
    "from scipy import optimize"
   ]
  },
  {
   "cell_type": "code",
   "execution_count": 31,
   "metadata": {},
   "outputs": [
    {
     "name": "stdout",
     "output_type": "stream",
     "text": [
      "        Nozzle Test Data      Unnamed: 1  Unnamed: 2  Unnamed: 3  Unnamed: 4  \\\n",
      "0   Barometric pressure:  29.35 in of Hg         NaN         NaN         NaN   \n",
      "1               Test no:               1         2.0        3.00        4.00   \n",
      "2         Back pressure:               0        30.0       40.00       50.00   \n",
      "3        Inlet temp (C):              25        25.5       25.00       25.00   \n",
      "4       Outlet temp (C):              20        19.5       22.50       22.50   \n",
      "5               Orifice:            3.03         3.1        2.98        3.02   \n",
      "6                      1              85        87.0       86.00       86.00   \n",
      "7                      2              86        87.0       86.00       86.00   \n",
      "8                      3              86        87.0       86.00       86.00   \n",
      "9                      4              86        87.0       86.00       86.00   \n",
      "10                     5              86        87.0       85.00       86.00   \n",
      "11                     6              85        87.0       85.00       86.00   \n",
      "12                     7              85        86.0       84.00       85.00   \n",
      "13                     8              80        82.0       80.00       80.00   \n",
      "14                     9              48        49.0       48.00       48.00   \n",
      "15                    10              35        36.0       34.00       34.00   \n",
      "16                    11              32        33.0       31.00       31.00   \n",
      "17                    12              30        30.0       29.00       30.00   \n",
      "18                    13              27        28.0       26.00       26.00   \n",
      "19                    14              25        25.0       24.00       24.00   \n",
      "20                    15              24        24.0       23.00       23.00   \n",
      "21                    16              21        22.0       21.00       21.00   \n",
      "22                    17              20        21.0       20.00       20.00   \n",
      "23                    18              19        20.0       18.00       18.00   \n",
      "24                    19              18        18.0       17.00       17.00   \n",
      "25                    20              17        17.0       16.00       32.00   \n",
      "26                    21              15        16.0       15.00       36.00   \n",
      "27                    22              14        15.0       14.00       40.00   \n",
      "28                    23              13        14.0       25.00       42.00   \n",
      "29                    24              12        12.0       32.00       44.00   \n",
      "30                    25              11        18.0       35.00       46.00   \n",
      "31                    26               8        28.0       38.00       48.00   \n",
      "32                    27               0        30.0       40.00       50.00   \n",
      "33                    28               0        31.0       40.00       50.00   \n",
      "34                    29               0        31.0       40.00       50.00   \n",
      "35                    30               0        31.0       40.00       50.00   \n",
      "\n",
      "   Unnamed: 5           Unnamed: 6  Unnamed: 7  Unnamed: 8  Unnamed: 9  \n",
      "0       Date:  2023-09-22 00:00:00         NaN         NaN         NaN  \n",
      "1           5                    6         7.0        8.00        9.00  \n",
      "2          60                   65        70.0       75.00       80.00  \n",
      "3          25                   25        25.0       25.00       25.00  \n",
      "4        22.5                   19        19.0       19.00       19.00  \n",
      "5        3.04                 3.06         2.9        2.54        2.04  \n",
      "6          86                   86        87.0       88.00       90.00  \n",
      "7          86                   86        87.0       88.00       90.00  \n",
      "8          86                   86        87.0       88.00       90.00  \n",
      "9          86                   86        87.0       88.00       90.00  \n",
      "10         86                   86        87.0       88.00       90.00  \n",
      "11         86                   86        87.0       88.00       90.00  \n",
      "12         85                   86        86.0       88.00       90.00  \n",
      "13         81                   81        83.0       85.00       87.00  \n",
      "14         48                   48        56.0       65.00       73.00  \n",
      "15         34                   46        55.0       64.00       72.00  \n",
      "16         31                   48        57.0       65.00       74.00  \n",
      "17         30                   50        59.0       66.00       74.00  \n",
      "18         27                   50        60.0       67.00       75.00  \n",
      "19         38                   52        60.0       68.00       75.00  \n",
      "20         42                   53        61.0       68.00       76.00  \n",
      "21         46                   54        62.0       69.00       76.00  \n",
      "22         48                   55        62.0       70.00       76.00  \n",
      "23         50                   56        63.0       70.00       76.00  \n",
      "24         51                   57        64.0       70.00       77.00  \n",
      "25         52                   58        64.0       71.00       77.00  \n",
      "26         53                   59        65.0       71.00       78.00  \n",
      "27         54                   60        66.0       72.00       78.00  \n",
      "28         55                   61        66.0       72.00       78.00  \n",
      "29         56                   62        67.0       73.00       78.00  \n",
      "30         57                   62        68.0       73.00       79.00  \n",
      "31         59                   64        69.0       74.00       80.00  \n",
      "32         60                   65        70.0       75.00       80.00  \n",
      "33         60                   66        70.0       75.00       80.00  \n",
      "34         60                   65        70.0       75.00       80.00  \n",
      "35         60                   65        70.0       75.00       80.00  \n"
     ]
    }
   ],
   "source": [
    "#reading the file\n",
    "full_data = pd.read_excel(\"Recorded Data.xlsx\")\n",
    "print(pd.read_excel(\"Recorded Data.xlsx\"))"
   ]
  },
  {
   "cell_type": "code",
   "execution_count": 11,
   "metadata": {},
   "outputs": [],
   "source": [
    "#reading and importing data from excel file, only displaying columns B-J (Test 1 - 9) and only rows starting with static pressures\n",
    "raw_data = pd.read_excel(\"Recorded Data.xlsx\", usecols=\"B:J\", skiprows=6)\n",
    "#print(raw_data)"
   ]
  },
  {
   "cell_type": "markdown",
   "metadata": {},
   "source": [
    "## Task 1a"
   ]
  },
  {
   "cell_type": "code",
   "execution_count": null,
   "metadata": {},
   "outputs": [],
   "source": [
    "#constants\n",
    "p_t = 85 #psig given in the lab report\n",
    "\n",
    "#creating list for normalized pressures\n",
    "p_norm_data = np.zeros((len(raw_data), 9))\n",
    "\n",
    "#calculating the normalized pressure profile\n",
    "for i in range(9):\n",
    "    for j in range(len(raw_data)):\n",
    "        p_norm = raw_data.iloc[j,i]/p_t\n",
    "        p_norm_data[j, i] = p_norm\n",
    "\n",
    "#plotting the data\n",
    "for i in range(9):\n",
    "    x = np.arange(0, 30, 1)\n",
    "    y = p_norm_data[:,i]\n",
    "    plt.plot(x,y)\n",
    "    plt.title(\"Test Number {} Normalized Pressure\".format(i+1))\n",
    "    plt.ylabel(\"Normalized Pressure\")\n",
    "    plt.xlabel(\"Probe Position\")\n",
    "    plt.show()"
   ]
  },
  {
   "cell_type": "markdown",
   "metadata": {},
   "source": [
    "## Task 1b"
   ]
  },
  {
   "cell_type": "code",
   "execution_count": null,
   "metadata": {},
   "outputs": [],
   "source": [
    "#constants\n",
    "back_pressures = [0, 30, 40, 50, 60, 65, 70, 75, 80]\n",
    "x = np.arange(0, 30, 1)\n",
    "\n",
    "#finding the exit pressures for each test (at position 26)\n",
    "exit_pressures = []\n",
    "for i in range(9):\n",
    "    exit_pressures.append(raw_data.iloc[25,i])\n",
    "print(exit_pressures)\n",
    "\n",
    "#creating the arrays for the data\n",
    "p_e_norm_data = np.zeros((len(raw_data), 9))\n",
    "p_b_norm_data = np.zeros((len(raw_data), 9))\n",
    "\n",
    "#normalized exit pressures (pe/p0)\n",
    "for i in range(9):\n",
    "    for j in range(len(raw_data)):\n",
    "        p_e_norm = exit_pressures[i]/raw_data.iloc[j,i]\n",
    "        p_e_norm_data[j, i] = p_e_norm\n",
    "\n",
    "#normalized back pressures (pb/p0)\n",
    "for i in range(9):\n",
    "    for j in range(len(raw_data)):\n",
    "        p_b_norm = back_pressures[i]/raw_data.iloc[j,i]\n",
    "        p_b_norm_data[j, i] = p_b_norm\n",
    "\n",
    "#plotting the data\n",
    "for i in range(9):\n",
    "    x = p_e_norm_data[:,i]\n",
    "    y = p_b_norm_data[:,i]\n",
    "    plt.plot(x,y)\n",
    "    plt.title(\"Test Number {}: Normalized Exit Pressure vs Normalied Back Pressure\".format(i+1))\n",
    "    plt.ylabel(\"Normalized Back Pressure\")\n",
    "    plt.xlabel(\"Normalized Exit Pressure\")\n",
    "    plt.show()"
   ]
  },
  {
   "cell_type": "markdown",
   "metadata": {},
   "source": [
    "## Task 1c"
   ]
  },
  {
   "cell_type": "code",
   "execution_count": 41,
   "metadata": {},
   "outputs": [
    {
     "name": "stdout",
     "output_type": "stream",
     "text": [
      "Subsonic Pressure: 70.98 psi\n",
      "Sonic Throat Pressure: 44.90 psi\n"
     ]
    }
   ],
   "source": [
    "#constants\n",
    "gamma = 1.4\n",
    "A_exit = np.pi*(0.2869/2)**2 #area of the nozzle at the exit, in^2\n",
    "A_star = np.pi*(0.2504/2)**2 #area of the throat, in^2\n",
    "A_ratio = A_exit/A_star #area ratio\n",
    "\n",
    "#The A_ratio is equal to A/A*. Using Appendix A of \"Fundamentals of Aerodynamics\" By John D. Anderson the subsonic\n",
    "#and sonic M numbers are determined by interpolating the data for our given A ratio\n",
    "M_sub = 0.514\n",
    "M_sonic = 1.673 #the sonic M number not used since at the throat in sonic conditions M=1 due to choking\n",
    "\n",
    "#finding the pressure of the subsonic throat using the equation p/pt = (1 + (gamma-1)/2 * M**2)^(-gamma / (gamma-1))\n",
    "#pt is the total pressure with p being the throat pressure\n",
    "p_throat_subsonic = 85*(1 + (gamma-1)/2 * M_sub**2)**(-gamma / (gamma-1))\n",
    "p_throat_sonic = 85*(1 + (gamma-1)/2 * 1**2)**(-gamma / (gamma-1))\n",
    "\n",
    "print(\"Subsonic Pressure: {:.2f} psi\".format(p_throat_subsonic))\n",
    "print(\"Sonic Throat Pressure: {:.2f} psi\".format(p_throat_sonic))"
   ]
  },
  {
   "cell_type": "markdown",
   "metadata": {},
   "source": [
    "## Task 1d"
   ]
  },
  {
   "cell_type": "code",
   "execution_count": 51,
   "metadata": {},
   "outputs": [
    {
     "name": "stdout",
     "output_type": "stream",
     "text": [
      "[0.24142500555265115, 0.24604207858073998, 0.24142500555265115, 0.24142500555265115, 0.24142500555265115, 0.24142500555265115, 0.281662506478093, 0.3269296950192151, 0.3671671959446569]\n",
      "[0.001095099066233592, 0.0011076764982521179, 0.0010860260095864485, 0.0010932904785976147, 0.0010969046718558406, 0.001100506995746114, 0.001071349307793864, 0.0010026490639625431, 0.0008985601993137457]\n"
     ]
    }
   ],
   "source": [
    "#constants\n",
    "d_orifice = 0.1625 #in\n",
    "D_pipe = 3.1875 #in\n",
    "A_th = np.pi*(d_orifice/2)**2 / 144 #ft^2\n",
    "g_c = 32.174 #(lbm-ft)/(lbf-s^2)\n",
    "F_a = 1.0 \n",
    "C_D = 0.623\n",
    "Beta = d_orifice/D_pipe\n",
    "R = 10.731 #psi⋅ft^3⋅lbmol^−1⋅°R^−1\n",
    "\n",
    "#calcualting rho using the equation p = rho*R*T, with p being at the throat which equals position 9\n",
    "p_throat_data = [] #psig\n",
    "for i in range(9):\n",
    "    p_throat_data.append(raw_data.iloc[8,i])\n",
    "\n",
    "T_recorded = []\n",
    "for i in range(9):\n",
    "    T_in = full_data.iloc[3,i+1] #getting the inlet recorded temp.\n",
    "    T_in = T_in*(9/5)+491.67 #converting from Celsius to Rankine\n",
    "    T_recorded.append(T_in)\n",
    "\n",
    "rho_f = [] #lbm/ft^3\n",
    "for i in range(9):\n",
    "    rho = p_throat_data[i]/(R*T_recorded[i]) * 28.966 #going from lbmol to lbm (lbm/ft^3)\n",
    "    rho_f.append(rho)\n",
    "print(rho_f)\n",
    "\n",
    "#getting delta p\n",
    "delta_p = []\n",
    "for i in range(9):\n",
    "    p_diff = full_data.iloc[5,i+1] #in of H20\n",
    "    p_diff = p_diff*5.197 #lbf/ft^2\n",
    "    delta_p.append(p_diff)\n",
    "\n",
    "#calculating m_dot\n",
    "m_dot_data = []\n",
    "for i in range(9):\n",
    "    m_dot = A_th * F_a * (C_D / np.sqrt(1 - Beta**4)) * np.sqrt(2*g_c*rho_f[i]*delta_p[i])\n",
    "    m_dot_data.append(m_dot)\n",
    "\n",
    "print(m_dot_data) #lbm/s\n"
   ]
  },
  {
   "cell_type": "markdown",
   "metadata": {},
   "source": [
    "## Task 1e"
   ]
  },
  {
   "cell_type": "code",
   "execution_count": null,
   "metadata": {},
   "outputs": [],
   "source": []
  }
 ],
 "metadata": {
  "kernelspec": {
   "display_name": "base",
   "language": "python",
   "name": "python3"
  },
  "language_info": {
   "codemirror_mode": {
    "name": "ipython",
    "version": 3
   },
   "file_extension": ".py",
   "mimetype": "text/x-python",
   "name": "python",
   "nbconvert_exporter": "python",
   "pygments_lexer": "ipython3",
   "version": "3.9.7"
  },
  "orig_nbformat": 4
 },
 "nbformat": 4,
 "nbformat_minor": 2
}
