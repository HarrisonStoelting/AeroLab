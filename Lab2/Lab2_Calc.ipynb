{
 "cells": [
  {
   "cell_type": "code",
   "execution_count": 1,
   "metadata": {},
   "outputs": [],
   "source": [
    "#imports\n",
    "import pandas as pd\n",
    "import numpy as np\n",
    "import matplotlib.pyplot as plt\n",
    "from scipy import optimize"
   ]
  },
  {
   "cell_type": "code",
   "execution_count": null,
   "metadata": {},
   "outputs": [],
   "source": [
    "#reading the file\n",
    "print(pd.read_excel(\"Recorded Data.xlsx\"))"
   ]
  },
  {
   "cell_type": "code",
   "execution_count": 51,
   "metadata": {},
   "outputs": [],
   "source": [
    "#reading and importing data from excel file, only displaying columns B-J (Test 1 - 9) and only rows starting with static pressures\n",
    "raw_data = pd.read_excel(\"Recorded Data.xlsx\", usecols=\"B:J\", skiprows=6)\n",
    "#print(raw_data)"
   ]
  },
  {
   "cell_type": "markdown",
   "metadata": {},
   "source": [
    "## Task 1a"
   ]
  },
  {
   "cell_type": "code",
   "execution_count": null,
   "metadata": {},
   "outputs": [],
   "source": [
    "#constants\n",
    "p_t = 85 #psig given in the lab report\n",
    "\n",
    "#creating list for normalized pressures\n",
    "p_norm_data = np.zeros((len(raw_data), 9))\n",
    "\n",
    "#calculating the normalized pressure profile\n",
    "for i in range(9):\n",
    "    for j in range(len(raw_data)):\n",
    "        p_norm = raw_data.iloc[j,i]/p_t\n",
    "        p_norm_data[j, i] = p_norm\n",
    "\n",
    "#plotting the data\n",
    "for i in range(9):\n",
    "    x = np.arange(0, 30, 1)\n",
    "    y = p_norm_data[:,i]\n",
    "    plt.plot(x,y)\n",
    "    plt.title(\"Test Number {} Normalized Pressure\".format(i+1))\n",
    "    plt.ylabel(\"Normalized Pressure\")\n",
    "    plt.xlabel(\"Probe Position\")\n",
    "    plt.show()"
   ]
  },
  {
   "cell_type": "markdown",
   "metadata": {},
   "source": [
    "## Task 1b"
   ]
  },
  {
   "cell_type": "code",
   "execution_count": null,
   "metadata": {},
   "outputs": [],
   "source": [
    "#constants\n",
    "back_pressures = [0, 30, 40, 50, 60, 65, 70, 75, 80]\n",
    "x = np.arange(0, 30, 1)\n",
    "\n",
    "#finding the exit pressures for each test (at position 26)\n",
    "exit_pressures = []\n",
    "for i in range(9):\n",
    "    exit_pressures.append(raw_data.iloc[25,i])\n",
    "\n",
    "#creating the arrays for the data\n",
    "p_e_norm_data = np.zeros((len(raw_data), 9))\n",
    "p_b_norm_data = np.zeros((len(raw_data), 9))\n",
    "\n",
    "#normalized exit pressures (pe/p0)\n",
    "for i in range(9):\n",
    "    for j in range(len(raw_data)):\n",
    "        p_e_norm = exit_pressures[i]/raw_data.iloc[j,i]\n",
    "        p_e_norm_data[j, i] = p_e_norm\n",
    "\n",
    "#normalized back pressures (pb/p0)\n",
    "for i in range(9):\n",
    "    for j in range(len(raw_data)):\n",
    "        p_b_norm = back_pressures[i]/raw_data.iloc[j,i]\n",
    "        p_b_norm_data[j, i] = p_b_norm\n",
    "\n",
    "#plotting the data\n",
    "#exit pressure\n",
    "for i in range(9):\n",
    "    y = p_e_norm_data[:,i]\n",
    "    plt.plot(x,y)\n",
    "    plt.title(\"Test Number {} Normalized Exit Pressure\".format(i+1))\n",
    "    plt.ylabel(\"Normalized Exit Pressure\")\n",
    "    plt.xlabel(\"Probe Position\")\n",
    "    plt.show()\n",
    "\n",
    "#back pressure\n",
    "for i in range(9):\n",
    "    y = p_b_norm_data[:,i]\n",
    "    plt.plot(x,y)\n",
    "    plt.title(\"Test Number {} Normalized Back Pressure\".format(i+1))\n",
    "    plt.ylabel(\"Normalized Back Pressure\")\n",
    "    plt.xlabel(\"Probe Position\")\n",
    "    plt.show()"
   ]
  },
  {
   "cell_type": "markdown",
   "metadata": {},
   "source": [
    "## Task 1c"
   ]
  },
  {
   "cell_type": "code",
   "execution_count": 27,
   "metadata": {},
   "outputs": [
    {
     "name": "stdout",
     "output_type": "stream",
     "text": [
      "0.5146558556128908\n"
     ]
    }
   ],
   "source": [
    "#constants\n",
    "gamma = 1.4\n",
    "A_exit = np.pi*(0.2869/2)**2 #area of the nozzle at the exit, in^2\n",
    "A_star = np.pi*(0.2504/2)**2 #area of the throat, in^2\n",
    "A_ratio = A_exit/A_star #area ratio\n",
    "\n",
    "#finding Mach number for the area ratio\n",
    "def f(M):\n",
    "    return 1/M**2 * ((2/(gamma+1))*(1 + ((gamma-1)/2)*M**2))**((gamma+1)/(gamma-1)) - A_ratio**2\n",
    "\n",
    "root = optimize.newton(f, 0.5)\n",
    "print(root)"
   ]
  },
  {
   "cell_type": "markdown",
   "metadata": {},
   "source": [
    "## Task 1d"
   ]
  },
  {
   "cell_type": "code",
   "execution_count": null,
   "metadata": {},
   "outputs": [],
   "source": [
    "#constants\n",
    "d_orifice = 0.1625 #in\n",
    "D_pipe = 3.1875 #in\n",
    "A_th = np.pi*(d_orifice/2)**2 #in^2\n",
    "g_c = 32.174 #(lbm-ft)/(lbf-s^2)\n",
    "F_a = 1.0 \n",
    "C_D = 0.623\n",
    "Beta = d_orifice/D_pipe\n",
    "\n",
    "#calcualting rho using the equation p = rho*R*T, with p being at the throat which equals position 9\n",
    "p_throat = "
   ]
  }
 ],
 "metadata": {
  "kernelspec": {
   "display_name": "base",
   "language": "python",
   "name": "python3"
  },
  "language_info": {
   "codemirror_mode": {
    "name": "ipython",
    "version": 3
   },
   "file_extension": ".py",
   "mimetype": "text/x-python",
   "name": "python",
   "nbconvert_exporter": "python",
   "pygments_lexer": "ipython3",
   "version": "3.9.7"
  },
  "orig_nbformat": 4
 },
 "nbformat": 4,
 "nbformat_minor": 2
}
